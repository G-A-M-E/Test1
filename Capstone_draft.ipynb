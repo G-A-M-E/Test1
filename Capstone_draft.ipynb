{
 "cells": [
  {
   "cell_type": "markdown",
   "id": "80ae2691-b918-4c03-9a51-048b6549ae1f",
   "metadata": {},
   "source": [
    "# Move multiple files into one folder"
   ]
  },
  {
   "cell_type": "code",
   "execution_count": 6,
   "id": "29ee4ef4-1c5c-4655-8672-4a45a8df4187",
   "metadata": {},
   "outputs": [],
   "source": [
    "# Load required package\n",
    "library(tools)\n",
    "\n",
    "# Specify the source and destination directories\n",
    "source_dir <- \"C:/Users/truev/Documents/UCSC/BaysianStatistics/02_Techniques/Week5\"\n",
    "dest_dir <- \"C:/Users/truev/Documents/UCSC/BaysianStatistics/02_Techniques/Week5/plots\"\n",
    "\n",
    "# Get a list of all .png files in the source directory\n",
    "files <- list.files(path = source_dir, pattern = \"\\\\.png|jpg$\")\n",
    "\n",
    "# Move each .png file to the destination directory\n",
    "for (file in files) {\n",
    "  file.rename(from = file.path(source_dir, file), \n",
    "              to = file.path(dest_dir, file))\n",
    "}\n"
   ]
  },
  {
   "cell_type": "markdown",
   "id": "3c23fc9e-00da-4e3e-944a-23ee2728ffcf",
   "metadata": {},
   "source": [
    "# **Introduction**\n",
    "# Beginning from a dataset..."
   ]
  },
  {
   "cell_type": "code",
   "execution_count": 1,
   "id": "0af6fd36-4d74-48a0-878f-28c6f0111a55",
   "metadata": {},
   "outputs": [
    {
     "data": {
      "text/plain": [
       "    Region               Year           ACCT                GDP         \n",
       " Length:343         Min.   :1980   Min.   :-10.90000   Min.   :  848.1  \n",
       " Class :character   1st Qu.:1992   1st Qu.: -2.10000   1st Qu.: 3698.0  \n",
       " Mode  :character   Median :2004   Median : -0.60000   Median :10072.1  \n",
       "                    Mean   :2004   Mean   :  0.02239   Mean   :16704.4  \n",
       "                    3rd Qu.:2016   3rd Qu.:  1.17500   3rd Qu.:27285.3  \n",
       "                    Max.   :2028   Max.   : 18.30000   Max.   :70230.0  \n",
       "                                   NA's   :17          NA's   :13       \n",
       "      GGD              INF              PPL         \n",
       " Min.   : 21.30   Min.   : -0.10   Min.   :  70.96  \n",
       " 1st Qu.: 53.02   1st Qu.:  3.25   1st Qu.: 434.80  \n",
       " Median : 69.70   Median :  6.10   Median : 640.73  \n",
       " Mean   : 72.91   Mean   : 15.02   Mean   :1007.84  \n",
       " 3rd Qu.: 91.08   3rd Qu.:  9.90   3rd Qu.: 770.61  \n",
       " Max.   :140.40   Max.   :475.90   Max.   :4546.85  \n",
       " NA's   :137                                        "
      ]
     },
     "metadata": {},
     "output_type": "display_data"
    },
    {
     "data": {
      "text/html": [
       "343"
      ],
      "text/latex": [
       "343"
      ],
      "text/markdown": [
       "343"
      ],
      "text/plain": [
       "[1] 343"
      ]
     },
     "metadata": {},
     "output_type": "display_data"
    }
   ],
   "source": [
    "#\"weo_092023\" is obsolete/modified at data wrangling stage\n",
    "df <- read.csv(\"weo_092423.csv\")\n",
    "summary(df)\n",
    "nrow(df)"
   ]
  },
  {
   "cell_type": "markdown",
   "id": "66394247-3f14-42ab-b39b-7866840995d4",
   "metadata": {},
   "source": [
    "# Subsetting in R ---using \"education\" datset"
   ]
  },
  {
   "cell_type": "code",
   "execution_count": 52,
   "id": "b4c7089a-bc4f-4f7f-b66f-c12b2df8c97e",
   "metadata": {},
   "outputs": [
    {
     "data": {
      "text/plain": [
       "       X            State               Region     Urban.Population\n",
       " Min.   : 1.00   Length:50          Min.   :1.00   Min.   :322.0   \n",
       " 1st Qu.:13.25   Class :character   1st Qu.:2.00   1st Qu.:546.8   \n",
       " Median :25.50   Mode  :character   Median :3.00   Median :662.5   \n",
       " Mean   :25.50                      Mean   :2.66   Mean   :657.8   \n",
       " 3rd Qu.:37.75                      3rd Qu.:3.75   3rd Qu.:782.2   \n",
       " Max.   :50.00                      Max.   :4.00   Max.   :909.0   \n",
       " Per.Capita.Income Minor.Population Education.Expenditures\n",
       " Min.   :3448      Min.   :287.0    Min.   :208.0         \n",
       " 1st Qu.:4137      1st Qu.:310.8    1st Qu.:234.2         \n",
       " Median :4706      Median :324.5    Median :269.5         \n",
       " Mean   :4675      Mean   :325.7    Mean   :284.6         \n",
       " 3rd Qu.:5054      3rd Qu.:333.0    3rd Qu.:316.8         \n",
       " Max.   :5889      Max.   :386.0    Max.   :546.0         "
      ]
     },
     "metadata": {},
     "output_type": "display_data"
    }
   ],
   "source": [
    "### import education expenditure data set and assign column names\n",
    "#https://www.r-bloggers.com/2016/11/5-ways-to-subset-a-data-frame-in-r/\n",
    "#education <- read.csv(\"https://vincentarelbundock.github.io/Rdatasets/csv/robustbase/education.csv\", stringsAsFactors = FALSE)\n",
    "education <- read.csv(\"education.csv\")\n",
    "colnames(education) <- c(\"X\",\"State\",\"Region\",\"Urban.Population\",\"Per.Capita.Income\",\"Minor.Population\",\"Education.Expenditures\")\n",
    "#View(education)\n",
    "summary(education)"
   ]
  },
  {
   "cell_type": "code",
   "execution_count": 60,
   "id": "7606586c-8e1a-4841-b5fa-df2b4e673dfc",
   "metadata": {},
   "outputs": [
    {
     "data": {
      "text/html": [
       "<table class=\"dataframe\">\n",
       "<caption>A data.frame: 21 × 3</caption>\n",
       "<thead>\n",
       "\t<tr><th scope=col>State</th><th scope=col>Minor.Population</th><th scope=col>Education.Expenditures</th></tr>\n",
       "\t<tr><th scope=col>&lt;chr&gt;</th><th scope=col>&lt;int&gt;</th><th scope=col>&lt;int&gt;</th></tr>\n",
       "</thead>\n",
       "<tbody>\n",
       "\t<tr><td>ME</td><td>325</td><td>235</td></tr>\n",
       "\t<tr><td>NH</td><td>323</td><td>231</td></tr>\n",
       "\t<tr><td>VT</td><td>328</td><td>270</td></tr>\n",
       "\t<tr><td>MA</td><td>305</td><td>261</td></tr>\n",
       "\t<tr><td>RI</td><td>303</td><td>300</td></tr>\n",
       "\t<tr><td>CT</td><td>307</td><td>317</td></tr>\n",
       "\t<tr><td>NY</td><td>301</td><td>387</td></tr>\n",
       "\t<tr><td>NJ</td><td>310</td><td>285</td></tr>\n",
       "\t<tr><td>PA</td><td>300</td><td>300</td></tr>\n",
       "\t<tr><td>OH</td><td>324</td><td>221</td></tr>\n",
       "\t<tr><td>IN</td><td>329</td><td>264</td></tr>\n",
       "\t<tr><td>IL</td><td>320</td><td>308</td></tr>\n",
       "\t<tr><td>MI</td><td>337</td><td>379</td></tr>\n",
       "\t<tr><td>WI</td><td>328</td><td>342</td></tr>\n",
       "\t<tr><td>MN</td><td>330</td><td>378</td></tr>\n",
       "\t<tr><td>IA</td><td>318</td><td>232</td></tr>\n",
       "\t<tr><td>MO</td><td>309</td><td>231</td></tr>\n",
       "\t<tr><td>ND</td><td>333</td><td>246</td></tr>\n",
       "\t<tr><td>SD</td><td>330</td><td>230</td></tr>\n",
       "\t<tr><td>NB</td><td>318</td><td>268</td></tr>\n",
       "\t<tr><td>KS</td><td>304</td><td>337</td></tr>\n",
       "</tbody>\n",
       "</table>\n"
      ],
      "text/latex": [
       "A data.frame: 21 × 3\n",
       "\\begin{tabular}{lll}\n",
       " State & Minor.Population & Education.Expenditures\\\\\n",
       " <chr> & <int> & <int>\\\\\n",
       "\\hline\n",
       "\t ME & 325 & 235\\\\\n",
       "\t NH & 323 & 231\\\\\n",
       "\t VT & 328 & 270\\\\\n",
       "\t MA & 305 & 261\\\\\n",
       "\t RI & 303 & 300\\\\\n",
       "\t CT & 307 & 317\\\\\n",
       "\t NY & 301 & 387\\\\\n",
       "\t NJ & 310 & 285\\\\\n",
       "\t PA & 300 & 300\\\\\n",
       "\t OH & 324 & 221\\\\\n",
       "\t IN & 329 & 264\\\\\n",
       "\t IL & 320 & 308\\\\\n",
       "\t MI & 337 & 379\\\\\n",
       "\t WI & 328 & 342\\\\\n",
       "\t MN & 330 & 378\\\\\n",
       "\t IA & 318 & 232\\\\\n",
       "\t MO & 309 & 231\\\\\n",
       "\t ND & 333 & 246\\\\\n",
       "\t SD & 330 & 230\\\\\n",
       "\t NB & 318 & 268\\\\\n",
       "\t KS & 304 & 337\\\\\n",
       "\\end{tabular}\n"
      ],
      "text/markdown": [
       "\n",
       "A data.frame: 21 × 3\n",
       "\n",
       "| State &lt;chr&gt; | Minor.Population &lt;int&gt; | Education.Expenditures &lt;int&gt; |\n",
       "|---|---|---|\n",
       "| ME | 325 | 235 |\n",
       "| NH | 323 | 231 |\n",
       "| VT | 328 | 270 |\n",
       "| MA | 305 | 261 |\n",
       "| RI | 303 | 300 |\n",
       "| CT | 307 | 317 |\n",
       "| NY | 301 | 387 |\n",
       "| NJ | 310 | 285 |\n",
       "| PA | 300 | 300 |\n",
       "| OH | 324 | 221 |\n",
       "| IN | 329 | 264 |\n",
       "| IL | 320 | 308 |\n",
       "| MI | 337 | 379 |\n",
       "| WI | 328 | 342 |\n",
       "| MN | 330 | 378 |\n",
       "| IA | 318 | 232 |\n",
       "| MO | 309 | 231 |\n",
       "| ND | 333 | 246 |\n",
       "| SD | 330 | 230 |\n",
       "| NB | 318 | 268 |\n",
       "| KS | 304 | 337 |\n",
       "\n"
      ],
      "text/plain": [
       "   State Minor.Population Education.Expenditures\n",
       "1  ME    325              235                   \n",
       "2  NH    323              231                   \n",
       "3  VT    328              270                   \n",
       "4  MA    305              261                   \n",
       "5  RI    303              300                   \n",
       "6  CT    307              317                   \n",
       "7  NY    301              387                   \n",
       "8  NJ    310              285                   \n",
       "9  PA    300              300                   \n",
       "10 OH    324              221                   \n",
       "11 IN    329              264                   \n",
       "12 IL    320              308                   \n",
       "13 MI    337              379                   \n",
       "14 WI    328              342                   \n",
       "15 MN    330              378                   \n",
       "16 IA    318              232                   \n",
       "17 MO    309              231                   \n",
       "18 ND    333              246                   \n",
       "19 SD    330              230                   \n",
       "20 NB    318              268                   \n",
       "21 KS    304              337                   "
      ]
     },
     "metadata": {},
     "output_type": "display_data"
    }
   ],
   "source": [
    "#Method1\n",
    "#(ed_exp1 <- education[c(10:21),c(2,6:7)])\n",
    "\n",
    "#Method2\n",
    "#(ed_exp2 <- education[-c(1:9,22:50),-c(1,3:5)])\n",
    "\n",
    "#Method3 -- IF desire to include Region =1\n",
    "#(ed_exp3 <- education[which(education$Region == 1 | education$Region ==  2),\n",
    "#           names(education) %in% c(\"State\",\"Minor.Population\",\"Education.Expenditures\")])\n",
    "\n",
    "#Method4\n",
    "#(ed_exp4 <- subset(education, Region == 2, \n",
    "#            select = c(\"State\",\"Minor.Population\",\"Education.Expenditures\")))\n",
    "\n",
    "#Method5 -- 2 ways to handle multi-selection\n",
    "library(dplyr)\n",
    "#(ed_exp5 <- select(filter(education, Region == 2),\n",
    "#                   c(State,Minor.Population:Education.Expenditures)))\n",
    "\n",
    "(ed_exp5 <- education %>% \n",
    "            filter(Region %in% 1:2) %>% \n",
    "            select(State, Minor.Population:Education.Expenditures))\n",
    "                     \n",
    "                     "
   ]
  },
  {
   "cell_type": "code",
   "execution_count": 2,
   "id": "bb9174cb-da58-4575-a1e9-0c146266d328",
   "metadata": {},
   "outputs": [
    {
     "name": "stderr",
     "output_type": "stream",
     "text": [
      "\n",
      "Attaching package: 'dplyr'\n",
      "\n",
      "\n",
      "The following objects are masked from 'package:stats':\n",
      "\n",
      "    filter, lag\n",
      "\n",
      "\n",
      "The following objects are masked from 'package:base':\n",
      "\n",
      "    intersect, setdiff, setequal, union\n",
      "\n",
      "\n"
     ]
    },
    {
     "data": {
      "text/html": [
       "161"
      ],
      "text/latex": [
       "161"
      ],
      "text/markdown": [
       "161"
      ],
      "text/plain": [
       "[1] 161"
      ]
     },
     "metadata": {},
     "output_type": "display_data"
    },
    {
     "data": {
      "text/html": [
       "<table class=\"dataframe\">\n",
       "<caption>A data.frame: 7 × 7</caption>\n",
       "<thead>\n",
       "\t<tr><th></th><th scope=col>Region</th><th scope=col>Year</th><th scope=col>ACCT</th><th scope=col>GDP</th><th scope=col>GGD</th><th scope=col>INF</th><th scope=col>PPL</th></tr>\n",
       "\t<tr><th></th><th scope=col>&lt;chr&gt;</th><th scope=col>&lt;int&gt;</th><th scope=col>&lt;dbl&gt;</th><th scope=col>&lt;dbl&gt;</th><th scope=col>&lt;dbl&gt;</th><th scope=col>&lt;dbl&gt;</th><th scope=col>&lt;dbl&gt;</th></tr>\n",
       "</thead>\n",
       "<tbody>\n",
       "\t<tr><th scope=row>1</th><td>Africa</td><td>2000</td><td> 2.1</td><td> 900.033</td><td>65.7</td><td>9.4</td><td>781.694</td></tr>\n",
       "\t<tr><th scope=row>2</th><td>Africa</td><td>2001</td><td> 0.8</td><td> 851.028</td><td>63.9</td><td>8.2</td><td>800.814</td></tr>\n",
       "\t<tr><th scope=row>3</th><td>Africa</td><td>2002</td><td>-0.2</td><td> 848.072</td><td>59.7</td><td>7.1</td><td>820.576</td></tr>\n",
       "\t<tr><th scope=row>4</th><td>Africa</td><td>2003</td><td> 0.6</td><td> 998.526</td><td>55.3</td><td>7.6</td><td>840.913</td></tr>\n",
       "\t<tr><th scope=row>5</th><td>Africa</td><td>2004</td><td> 2.6</td><td>1166.687</td><td>49.8</td><td>7.5</td><td>861.940</td></tr>\n",
       "\t<tr><th scope=row>6</th><td>Africa</td><td>2005</td><td> 5.7</td><td>1338.903</td><td>43.2</td><td>7.4</td><td>883.280</td></tr>\n",
       "\t<tr><th scope=row>7</th><td>Africa</td><td>2006</td><td> 6.2</td><td>1506.401</td><td>35.2</td><td>5.7</td><td>905.607</td></tr>\n",
       "</tbody>\n",
       "</table>\n"
      ],
      "text/latex": [
       "A data.frame: 7 × 7\n",
       "\\begin{tabular}{r|lllllll}\n",
       "  & Region & Year & ACCT & GDP & GGD & INF & PPL\\\\\n",
       "  & <chr> & <int> & <dbl> & <dbl> & <dbl> & <dbl> & <dbl>\\\\\n",
       "\\hline\n",
       "\t1 & Africa & 2000 &  2.1 &  900.033 & 65.7 & 9.4 & 781.694\\\\\n",
       "\t2 & Africa & 2001 &  0.8 &  851.028 & 63.9 & 8.2 & 800.814\\\\\n",
       "\t3 & Africa & 2002 & -0.2 &  848.072 & 59.7 & 7.1 & 820.576\\\\\n",
       "\t4 & Africa & 2003 &  0.6 &  998.526 & 55.3 & 7.6 & 840.913\\\\\n",
       "\t5 & Africa & 2004 &  2.6 & 1166.687 & 49.8 & 7.5 & 861.940\\\\\n",
       "\t6 & Africa & 2005 &  5.7 & 1338.903 & 43.2 & 7.4 & 883.280\\\\\n",
       "\t7 & Africa & 2006 &  6.2 & 1506.401 & 35.2 & 5.7 & 905.607\\\\\n",
       "\\end{tabular}\n"
      ],
      "text/markdown": [
       "\n",
       "A data.frame: 7 × 7\n",
       "\n",
       "| <!--/--> | Region &lt;chr&gt; | Year &lt;int&gt; | ACCT &lt;dbl&gt; | GDP &lt;dbl&gt; | GGD &lt;dbl&gt; | INF &lt;dbl&gt; | PPL &lt;dbl&gt; |\n",
       "|---|---|---|---|---|---|---|---|\n",
       "| 1 | Africa | 2000 |  2.1 |  900.033 | 65.7 | 9.4 | 781.694 |\n",
       "| 2 | Africa | 2001 |  0.8 |  851.028 | 63.9 | 8.2 | 800.814 |\n",
       "| 3 | Africa | 2002 | -0.2 |  848.072 | 59.7 | 7.1 | 820.576 |\n",
       "| 4 | Africa | 2003 |  0.6 |  998.526 | 55.3 | 7.6 | 840.913 |\n",
       "| 5 | Africa | 2004 |  2.6 | 1166.687 | 49.8 | 7.5 | 861.940 |\n",
       "| 6 | Africa | 2005 |  5.7 | 1338.903 | 43.2 | 7.4 | 883.280 |\n",
       "| 7 | Africa | 2006 |  6.2 | 1506.401 | 35.2 | 5.7 | 905.607 |\n",
       "\n"
      ],
      "text/plain": [
       "  Region Year ACCT GDP      GGD  INF PPL    \n",
       "1 Africa 2000  2.1  900.033 65.7 9.4 781.694\n",
       "2 Africa 2001  0.8  851.028 63.9 8.2 800.814\n",
       "3 Africa 2002 -0.2  848.072 59.7 7.1 820.576\n",
       "4 Africa 2003  0.6  998.526 55.3 7.6 840.913\n",
       "5 Africa 2004  2.6 1166.687 49.8 7.5 861.940\n",
       "6 Africa 2005  5.7 1338.903 43.2 7.4 883.280\n",
       "7 Africa 2006  6.2 1506.401 35.2 5.7 905.607"
      ]
     },
     "metadata": {},
     "output_type": "display_data"
    },
    {
     "data": {
      "text/html": [
       "<table class=\"dataframe\">\n",
       "<caption>A data.frame: 7 × 7</caption>\n",
       "<thead>\n",
       "\t<tr><th></th><th scope=col>Region</th><th scope=col>Year</th><th scope=col>ACCT</th><th scope=col>GDP</th><th scope=col>GGD</th><th scope=col>INF</th><th scope=col>PPL</th></tr>\n",
       "\t<tr><th></th><th scope=col>&lt;chr&gt;</th><th scope=col>&lt;int&gt;</th><th scope=col>&lt;dbl&gt;</th><th scope=col>&lt;dbl&gt;</th><th scope=col>&lt;dbl&gt;</th><th scope=col>&lt;dbl&gt;</th><th scope=col>&lt;dbl&gt;</th></tr>\n",
       "</thead>\n",
       "<tbody>\n",
       "\t<tr><th scope=row>155</th><td>North America</td><td>2016</td><td>-2.2</td><td>44099.57</td><td>103.3</td><td>1.4</td><td>485.400</td></tr>\n",
       "\t<tr><th scope=row>156</th><td>North America</td><td>2017</td><td>-1.9</td><td>45774.33</td><td>102.1</td><td>2.5</td><td>489.116</td></tr>\n",
       "\t<tr><th scope=row>157</th><td>North America</td><td>2018</td><td>-2.2</td><td>47876.43</td><td>103.2</td><td>2.7</td><td>492.554</td></tr>\n",
       "\t<tr><th scope=row>158</th><td>North America</td><td>2019</td><td>-2.0</td><td>49406.25</td><td>104.3</td><td>2.0</td><td>495.865</td></tr>\n",
       "\t<tr><th scope=row>159</th><td>North America</td><td>2020</td><td>-2.7</td><td>47785.38</td><td>128.8</td><td>1.4</td><td>500.186</td></tr>\n",
       "\t<tr><th scope=row>160</th><td>North America</td><td>2021</td><td>-3.2</td><td>53105.97</td><td>122.0</td><td>4.7</td><td>502.692</td></tr>\n",
       "\t<tr><th scope=row>161</th><td>North America</td><td>2022</td><td>-3.3</td><td>57617.69</td><td>117.0</td><td>7.9</td><td>505.658</td></tr>\n",
       "</tbody>\n",
       "</table>\n"
      ],
      "text/latex": [
       "A data.frame: 7 × 7\n",
       "\\begin{tabular}{r|lllllll}\n",
       "  & Region & Year & ACCT & GDP & GGD & INF & PPL\\\\\n",
       "  & <chr> & <int> & <dbl> & <dbl> & <dbl> & <dbl> & <dbl>\\\\\n",
       "\\hline\n",
       "\t155 & North America & 2016 & -2.2 & 44099.57 & 103.3 & 1.4 & 485.400\\\\\n",
       "\t156 & North America & 2017 & -1.9 & 45774.33 & 102.1 & 2.5 & 489.116\\\\\n",
       "\t157 & North America & 2018 & -2.2 & 47876.43 & 103.2 & 2.7 & 492.554\\\\\n",
       "\t158 & North America & 2019 & -2.0 & 49406.25 & 104.3 & 2.0 & 495.865\\\\\n",
       "\t159 & North America & 2020 & -2.7 & 47785.38 & 128.8 & 1.4 & 500.186\\\\\n",
       "\t160 & North America & 2021 & -3.2 & 53105.97 & 122.0 & 4.7 & 502.692\\\\\n",
       "\t161 & North America & 2022 & -3.3 & 57617.69 & 117.0 & 7.9 & 505.658\\\\\n",
       "\\end{tabular}\n"
      ],
      "text/markdown": [
       "\n",
       "A data.frame: 7 × 7\n",
       "\n",
       "| <!--/--> | Region &lt;chr&gt; | Year &lt;int&gt; | ACCT &lt;dbl&gt; | GDP &lt;dbl&gt; | GGD &lt;dbl&gt; | INF &lt;dbl&gt; | PPL &lt;dbl&gt; |\n",
       "|---|---|---|---|---|---|---|---|\n",
       "| 155 | North America | 2016 | -2.2 | 44099.57 | 103.3 | 1.4 | 485.400 |\n",
       "| 156 | North America | 2017 | -1.9 | 45774.33 | 102.1 | 2.5 | 489.116 |\n",
       "| 157 | North America | 2018 | -2.2 | 47876.43 | 103.2 | 2.7 | 492.554 |\n",
       "| 158 | North America | 2019 | -2.0 | 49406.25 | 104.3 | 2.0 | 495.865 |\n",
       "| 159 | North America | 2020 | -2.7 | 47785.38 | 128.8 | 1.4 | 500.186 |\n",
       "| 160 | North America | 2021 | -3.2 | 53105.97 | 122.0 | 4.7 | 502.692 |\n",
       "| 161 | North America | 2022 | -3.3 | 57617.69 | 117.0 | 7.9 | 505.658 |\n",
       "\n"
      ],
      "text/plain": [
       "    Region        Year ACCT GDP      GGD   INF PPL    \n",
       "155 North America 2016 -2.2 44099.57 103.3 1.4 485.400\n",
       "156 North America 2017 -1.9 45774.33 102.1 2.5 489.116\n",
       "157 North America 2018 -2.2 47876.43 103.2 2.7 492.554\n",
       "158 North America 2019 -2.0 49406.25 104.3 2.0 495.865\n",
       "159 North America 2020 -2.7 47785.38 128.8 1.4 500.186\n",
       "160 North America 2021 -3.2 53105.97 122.0 4.7 502.692\n",
       "161 North America 2022 -3.3 57617.69 117.0 7.9 505.658"
      ]
     },
     "metadata": {},
     "output_type": "display_data"
    }
   ],
   "source": [
    "#Back to Capstone Project\n",
    "\n",
    "library(dplyr)\n",
    "df_select <- df %>% \n",
    "            filter(Year %in% 2000:2022) \n",
    "nrow(df_select)\n",
    "head(df_select,7)\n",
    "tail(df_select,7)\n",
    "             "
   ]
  },
  {
   "cell_type": "markdown",
   "id": "92028a94-a918-4b25-bfdc-0b3e55dd738c",
   "metadata": {},
   "source": [
    "# Find Missing values"
   ]
  },
  {
   "cell_type": "code",
   "execution_count": 3,
   "id": "4e0c7841-f28a-44be-93b5-d2d11cef14c7",
   "metadata": {},
   "outputs": [
    {
     "data": {
      "text/html": [
       "<table class=\"dataframe\">\n",
       "<caption>A data.frame: 0 × 7</caption>\n",
       "<thead>\n",
       "\t<tr><th scope=col>Region</th><th scope=col>Year</th><th scope=col>ACCT</th><th scope=col>GDP</th><th scope=col>GGD</th><th scope=col>INF</th><th scope=col>PPL</th></tr>\n",
       "\t<tr><th scope=col>&lt;chr&gt;</th><th scope=col>&lt;int&gt;</th><th scope=col>&lt;dbl&gt;</th><th scope=col>&lt;dbl&gt;</th><th scope=col>&lt;dbl&gt;</th><th scope=col>&lt;dbl&gt;</th><th scope=col>&lt;dbl&gt;</th></tr>\n",
       "</thead>\n",
       "<tbody>\n",
       "</tbody>\n",
       "</table>\n"
      ],
      "text/latex": [
       "A data.frame: 0 × 7\n",
       "\\begin{tabular}{lllllll}\n",
       " Region & Year & ACCT & GDP & GGD & INF & PPL\\\\\n",
       " <chr> & <int> & <dbl> & <dbl> & <dbl> & <dbl> & <dbl>\\\\\n",
       "\\hline\n",
       "\\end{tabular}\n"
      ],
      "text/markdown": [
       "\n",
       "A data.frame: 0 × 7\n",
       "\n",
       "| Region &lt;chr&gt; | Year &lt;int&gt; | ACCT &lt;dbl&gt; | GDP &lt;dbl&gt; | GGD &lt;dbl&gt; | INF &lt;dbl&gt; | PPL &lt;dbl&gt; |\n",
       "|---|---|---|---|---|---|---|\n",
       "\n"
      ],
      "text/plain": [
       "     Region Year ACCT GDP GGD INF PPL"
      ]
     },
     "metadata": {},
     "output_type": "display_data"
    },
    {
     "data": {
      "text/html": [
       "<table class=\"dataframe\">\n",
       "<caption>A data.frame: 137 × 7</caption>\n",
       "<thead>\n",
       "\t<tr><th></th><th scope=col>Region</th><th scope=col>Year</th><th scope=col>ACCT</th><th scope=col>GDP</th><th scope=col>GGD</th><th scope=col>INF</th><th scope=col>PPL</th></tr>\n",
       "\t<tr><th></th><th scope=col>&lt;chr&gt;</th><th scope=col>&lt;int&gt;</th><th scope=col>&lt;dbl&gt;</th><th scope=col>&lt;dbl&gt;</th><th scope=col>&lt;dbl&gt;</th><th scope=col>&lt;dbl&gt;</th><th scope=col>&lt;dbl&gt;</th></tr>\n",
       "</thead>\n",
       "<tbody>\n",
       "\t<tr><th scope=row>1</th><td>Africa          </td><td>1980</td><td> 0.5</td><td>      NA</td><td>NA</td><td>16.6</td><td> 449.516</td></tr>\n",
       "\t<tr><th scope=row>2</th><td>Africa          </td><td>1981</td><td>-4.6</td><td>      NA</td><td>NA</td><td>15.8</td><td> 462.287</td></tr>\n",
       "\t<tr><th scope=row>3</th><td>Africa          </td><td>1982</td><td>-3.7</td><td>      NA</td><td>NA</td><td>14.5</td><td> 475.602</td></tr>\n",
       "\t<tr><th scope=row>4</th><td>Africa          </td><td>1983</td><td>-2.4</td><td>      NA</td><td>NA</td><td>15.7</td><td> 489.301</td></tr>\n",
       "\t<tr><th scope=row>5</th><td>Africa          </td><td>1984</td><td>-2.8</td><td>      NA</td><td>NA</td><td>13.6</td><td> 503.780</td></tr>\n",
       "\t<tr><th scope=row>6</th><td>Africa          </td><td>1985</td><td>-0.6</td><td>      NA</td><td>NA</td><td>13.7</td><td> 519.313</td></tr>\n",
       "\t<tr><th scope=row>7</th><td>Africa          </td><td>1986</td><td>-2.3</td><td>      NA</td><td>NA</td><td>17.1</td><td> 533.977</td></tr>\n",
       "\t<tr><th scope=row>8</th><td>Africa          </td><td>1987</td><td>-1.1</td><td>      NA</td><td>NA</td><td>16.2</td><td> 548.759</td></tr>\n",
       "\t<tr><th scope=row>9</th><td>Africa          </td><td>1988</td><td>-2.3</td><td>      NA</td><td>NA</td><td>14.3</td><td> 563.732</td></tr>\n",
       "\t<tr><th scope=row>10</th><td>Africa          </td><td>1989</td><td>-2.1</td><td>      NA</td><td>NA</td><td>16.4</td><td> 580.632</td></tr>\n",
       "\t<tr><th scope=row>11</th><td>Africa          </td><td>1990</td><td>-0.5</td><td>1084.136</td><td>NA</td><td>14.1</td><td> 604.286</td></tr>\n",
       "\t<tr><th scope=row>12</th><td>Africa          </td><td>1991</td><td>-0.8</td><td> 973.911</td><td>NA</td><td>26.5</td><td> 621.106</td></tr>\n",
       "\t<tr><th scope=row>13</th><td>Africa          </td><td>1992</td><td>-0.2</td><td> 946.132</td><td>NA</td><td>31.1</td><td> 640.649</td></tr>\n",
       "\t<tr><th scope=row>14</th><td>Africa          </td><td>1993</td><td>-0.9</td><td> 921.085</td><td>NA</td><td>27.5</td><td> 658.958</td></tr>\n",
       "\t<tr><th scope=row>15</th><td>Africa          </td><td>1994</td><td>-1.7</td><td> 880.654</td><td>NA</td><td>34.2</td><td> 676.019</td></tr>\n",
       "\t<tr><th scope=row>16</th><td>Africa          </td><td>1995</td><td>-2.1</td><td>1022.837</td><td>NA</td><td>28.5</td><td> 691.536</td></tr>\n",
       "\t<tr><th scope=row>17</th><td>Africa          </td><td>1996</td><td> 0.0</td><td>1114.108</td><td>NA</td><td>26.3</td><td> 708.737</td></tr>\n",
       "\t<tr><th scope=row>18</th><td>Africa          </td><td>1997</td><td>-0.9</td><td>1127.871</td><td>NA</td><td>12.5</td><td> 726.685</td></tr>\n",
       "\t<tr><th scope=row>19</th><td>Africa          </td><td>1998</td><td>-2.8</td><td>1113.742</td><td>NA</td><td> 8.0</td><td> 743.962</td></tr>\n",
       "\t<tr><th scope=row>20</th><td>Africa          </td><td>1999</td><td>-1.6</td><td> 899.952</td><td>NA</td><td> 8.9</td><td> 762.082</td></tr>\n",
       "\t<tr><th scope=row>50</th><td>Asia and Pacific</td><td>1980</td><td>  NA</td><td> 966.343</td><td>NA</td><td>16.0</td><td>2446.699</td></tr>\n",
       "\t<tr><th scope=row>51</th><td>Asia and Pacific</td><td>1981</td><td>  NA</td><td>1014.653</td><td>NA</td><td>10.4</td><td>2491.680</td></tr>\n",
       "\t<tr><th scope=row>52</th><td>Asia and Pacific</td><td>1982</td><td>  NA</td><td> 968.570</td><td>NA</td><td> 7.4</td><td>2539.307</td></tr>\n",
       "\t<tr><th scope=row>53</th><td>Asia and Pacific</td><td>1983</td><td>  NA</td><td>1010.987</td><td>NA</td><td> 6.9</td><td>2585.030</td></tr>\n",
       "\t<tr><th scope=row>54</th><td>Asia and Pacific</td><td>1984</td><td>  NA</td><td>1053.728</td><td>NA</td><td> 7.6</td><td>2631.195</td></tr>\n",
       "\t<tr><th scope=row>55</th><td>Asia and Pacific</td><td>1985</td><td>  NA</td><td>1054.782</td><td>NA</td><td> 7.5</td><td>2679.450</td></tr>\n",
       "\t<tr><th scope=row>56</th><td>Asia and Pacific</td><td>1986</td><td>  NA</td><td>1316.640</td><td>NA</td><td> 7.3</td><td>2729.421</td></tr>\n",
       "\t<tr><th scope=row>57</th><td>Asia and Pacific</td><td>1987</td><td>  NA</td><td>1534.652</td><td>NA</td><td> 7.6</td><td>2781.201</td></tr>\n",
       "\t<tr><th scope=row>58</th><td>Asia and Pacific</td><td>1988</td><td>  NA</td><td>1798.673</td><td>NA</td><td>10.9</td><td>2832.469</td></tr>\n",
       "\t<tr><th scope=row>59</th><td>Asia and Pacific</td><td>1989</td><td>  NA</td><td>1836.186</td><td>NA</td><td> 9.6</td><td>2883.725</td></tr>\n",
       "\t<tr><th scope=row>⋮</th><td>⋮</td><td>⋮</td><td>⋮</td><td>⋮</td><td>⋮</td><td>⋮</td><td>⋮</td></tr>\n",
       "\t<tr><th scope=row>256</th><td>Middle East  </td><td>1990</td><td>  0.8</td><td> 7792.567</td><td>NA</td><td> 5.1</td><td>113.331</td></tr>\n",
       "\t<tr><th scope=row>257</th><td>Middle East  </td><td>1991</td><td>-10.9</td><td> 5377.377</td><td>NA</td><td>10.7</td><td>116.337</td></tr>\n",
       "\t<tr><th scope=row>258</th><td>Middle East  </td><td>1992</td><td> -7.4</td><td> 3376.165</td><td>NA</td><td> 9.8</td><td>119.843</td></tr>\n",
       "\t<tr><th scope=row>259</th><td>Middle East  </td><td>1993</td><td> -5.4</td><td> 3478.417</td><td>NA</td><td> 9.5</td><td>124.860</td></tr>\n",
       "\t<tr><th scope=row>260</th><td>Middle East  </td><td>1994</td><td> -2.1</td><td> 3693.510</td><td>NA</td><td>12.7</td><td>128.279</td></tr>\n",
       "\t<tr><th scope=row>261</th><td>Middle East  </td><td>1995</td><td> -1.2</td><td> 4057.669</td><td>NA</td><td>17.1</td><td>131.515</td></tr>\n",
       "\t<tr><th scope=row>262</th><td>Middle East  </td><td>1996</td><td>  1.3</td><td> 4560.911</td><td>NA</td><td> 9.0</td><td>134.479</td></tr>\n",
       "\t<tr><th scope=row>263</th><td>Middle East  </td><td>1997</td><td>  1.0</td><td> 4805.418</td><td>NA</td><td> 5.7</td><td>137.519</td></tr>\n",
       "\t<tr><th scope=row>264</th><td>Middle East  </td><td>1998</td><td> -3.6</td><td> 4659.341</td><td>NA</td><td> 5.8</td><td>140.461</td></tr>\n",
       "\t<tr><th scope=row>265</th><td>Middle East  </td><td>1999</td><td>  1.6</td><td> 5321.071</td><td>NA</td><td> 5.6</td><td>143.145</td></tr>\n",
       "\t<tr><th scope=row>295</th><td>North America</td><td>1980</td><td> -0.5</td><td>10457.985</td><td>NA</td><td>14.6</td><td>322.857</td></tr>\n",
       "\t<tr><th scope=row>296</th><td>North America</td><td>1981</td><td> -0.7</td><td>11686.633</td><td>NA</td><td>12.5</td><td>327.197</td></tr>\n",
       "\t<tr><th scope=row>297</th><td>North America</td><td>1982</td><td> -0.1</td><td>11731.442</td><td>NA</td><td>11.8</td><td>331.441</td></tr>\n",
       "\t<tr><th scope=row>298</th><td>North America</td><td>1983</td><td> -0.7</td><td>12418.412</td><td>NA</td><td>11.4</td><td>335.540</td></tr>\n",
       "\t<tr><th scope=row>299</th><td>North America</td><td>1984</td><td> -1.8</td><td>13601.140</td><td>NA</td><td> 9.7</td><td>339.560</td></tr>\n",
       "\t<tr><th scope=row>300</th><td>North America</td><td>1985</td><td> -2.4</td><td>14385.174</td><td>NA</td><td> 8.3</td><td>343.608</td></tr>\n",
       "\t<tr><th scope=row>301</th><td>North America</td><td>1986</td><td> -3.1</td><td>14755.961</td><td>NA</td><td> 8.5</td><td>347.732</td></tr>\n",
       "\t<tr><th scope=row>302</th><td>North America</td><td>1987</td><td> -3.1</td><td>15564.767</td><td>NA</td><td>12.3</td><td>351.905</td></tr>\n",
       "\t<tr><th scope=row>303</th><td>North America</td><td>1988</td><td> -2.3</td><td>16773.882</td><td>NA</td><td>11.6</td><td>356.143</td></tr>\n",
       "\t<tr><th scope=row>304</th><td>North America</td><td>1989</td><td> -2.0</td><td>17980.238</td><td>NA</td><td> 6.2</td><td>360.572</td></tr>\n",
       "\t<tr><th scope=row>305</th><td>North America</td><td>1990</td><td> -1.6</td><td>18830.470</td><td>NA</td><td> 7.3</td><td>365.377</td></tr>\n",
       "\t<tr><th scope=row>306</th><td>North America</td><td>1991</td><td> -0.6</td><td>19291.838</td><td>NA</td><td> 6.1</td><td>370.678</td></tr>\n",
       "\t<tr><th scope=row>307</th><td>North America</td><td>1992</td><td> -1.5</td><td>20088.555</td><td>NA</td><td> 4.2</td><td>375.988</td></tr>\n",
       "\t<tr><th scope=row>308</th><td>North America</td><td>1993</td><td> -1.8</td><td>20918.945</td><td>NA</td><td> 3.6</td><td>381.249</td></tr>\n",
       "\t<tr><th scope=row>309</th><td>North America</td><td>1994</td><td> -2.1</td><td>21835.939</td><td>NA</td><td> 2.9</td><td>386.274</td></tr>\n",
       "\t<tr><th scope=row>310</th><td>North America</td><td>1995</td><td> -1.4</td><td>22106.304</td><td>NA</td><td> 5.5</td><td>391.220</td></tr>\n",
       "\t<tr><th scope=row>311</th><td>North America</td><td>1996</td><td> -1.4</td><td>23123.812</td><td>NA</td><td> 5.6</td><td>396.130</td></tr>\n",
       "\t<tr><th scope=row>312</th><td>North America</td><td>1997</td><td> -1.6</td><td>24384.272</td><td>NA</td><td> 4.0</td><td>401.126</td></tr>\n",
       "\t<tr><th scope=row>313</th><td>North America</td><td>1998</td><td> -2.3</td><td>25313.179</td><td>NA</td><td> 2.9</td><td>406.011</td></tr>\n",
       "\t<tr><th scope=row>314</th><td>North America</td><td>1999</td><td> -2.7</td><td>26696.554</td><td>NA</td><td> 3.5</td><td>410.827</td></tr>\n",
       "</tbody>\n",
       "</table>\n"
      ],
      "text/latex": [
       "A data.frame: 137 × 7\n",
       "\\begin{tabular}{r|lllllll}\n",
       "  & Region & Year & ACCT & GDP & GGD & INF & PPL\\\\\n",
       "  & <chr> & <int> & <dbl> & <dbl> & <dbl> & <dbl> & <dbl>\\\\\n",
       "\\hline\n",
       "\t1 & Africa           & 1980 &  0.5 &       NA & NA & 16.6 &  449.516\\\\\n",
       "\t2 & Africa           & 1981 & -4.6 &       NA & NA & 15.8 &  462.287\\\\\n",
       "\t3 & Africa           & 1982 & -3.7 &       NA & NA & 14.5 &  475.602\\\\\n",
       "\t4 & Africa           & 1983 & -2.4 &       NA & NA & 15.7 &  489.301\\\\\n",
       "\t5 & Africa           & 1984 & -2.8 &       NA & NA & 13.6 &  503.780\\\\\n",
       "\t6 & Africa           & 1985 & -0.6 &       NA & NA & 13.7 &  519.313\\\\\n",
       "\t7 & Africa           & 1986 & -2.3 &       NA & NA & 17.1 &  533.977\\\\\n",
       "\t8 & Africa           & 1987 & -1.1 &       NA & NA & 16.2 &  548.759\\\\\n",
       "\t9 & Africa           & 1988 & -2.3 &       NA & NA & 14.3 &  563.732\\\\\n",
       "\t10 & Africa           & 1989 & -2.1 &       NA & NA & 16.4 &  580.632\\\\\n",
       "\t11 & Africa           & 1990 & -0.5 & 1084.136 & NA & 14.1 &  604.286\\\\\n",
       "\t12 & Africa           & 1991 & -0.8 &  973.911 & NA & 26.5 &  621.106\\\\\n",
       "\t13 & Africa           & 1992 & -0.2 &  946.132 & NA & 31.1 &  640.649\\\\\n",
       "\t14 & Africa           & 1993 & -0.9 &  921.085 & NA & 27.5 &  658.958\\\\\n",
       "\t15 & Africa           & 1994 & -1.7 &  880.654 & NA & 34.2 &  676.019\\\\\n",
       "\t16 & Africa           & 1995 & -2.1 & 1022.837 & NA & 28.5 &  691.536\\\\\n",
       "\t17 & Africa           & 1996 &  0.0 & 1114.108 & NA & 26.3 &  708.737\\\\\n",
       "\t18 & Africa           & 1997 & -0.9 & 1127.871 & NA & 12.5 &  726.685\\\\\n",
       "\t19 & Africa           & 1998 & -2.8 & 1113.742 & NA &  8.0 &  743.962\\\\\n",
       "\t20 & Africa           & 1999 & -1.6 &  899.952 & NA &  8.9 &  762.082\\\\\n",
       "\t50 & Asia and Pacific & 1980 &   NA &  966.343 & NA & 16.0 & 2446.699\\\\\n",
       "\t51 & Asia and Pacific & 1981 &   NA & 1014.653 & NA & 10.4 & 2491.680\\\\\n",
       "\t52 & Asia and Pacific & 1982 &   NA &  968.570 & NA &  7.4 & 2539.307\\\\\n",
       "\t53 & Asia and Pacific & 1983 &   NA & 1010.987 & NA &  6.9 & 2585.030\\\\\n",
       "\t54 & Asia and Pacific & 1984 &   NA & 1053.728 & NA &  7.6 & 2631.195\\\\\n",
       "\t55 & Asia and Pacific & 1985 &   NA & 1054.782 & NA &  7.5 & 2679.450\\\\\n",
       "\t56 & Asia and Pacific & 1986 &   NA & 1316.640 & NA &  7.3 & 2729.421\\\\\n",
       "\t57 & Asia and Pacific & 1987 &   NA & 1534.652 & NA &  7.6 & 2781.201\\\\\n",
       "\t58 & Asia and Pacific & 1988 &   NA & 1798.673 & NA & 10.9 & 2832.469\\\\\n",
       "\t59 & Asia and Pacific & 1989 &   NA & 1836.186 & NA &  9.6 & 2883.725\\\\\n",
       "\t⋮ & ⋮ & ⋮ & ⋮ & ⋮ & ⋮ & ⋮ & ⋮\\\\\n",
       "\t256 & Middle East   & 1990 &   0.8 &  7792.567 & NA &  5.1 & 113.331\\\\\n",
       "\t257 & Middle East   & 1991 & -10.9 &  5377.377 & NA & 10.7 & 116.337\\\\\n",
       "\t258 & Middle East   & 1992 &  -7.4 &  3376.165 & NA &  9.8 & 119.843\\\\\n",
       "\t259 & Middle East   & 1993 &  -5.4 &  3478.417 & NA &  9.5 & 124.860\\\\\n",
       "\t260 & Middle East   & 1994 &  -2.1 &  3693.510 & NA & 12.7 & 128.279\\\\\n",
       "\t261 & Middle East   & 1995 &  -1.2 &  4057.669 & NA & 17.1 & 131.515\\\\\n",
       "\t262 & Middle East   & 1996 &   1.3 &  4560.911 & NA &  9.0 & 134.479\\\\\n",
       "\t263 & Middle East   & 1997 &   1.0 &  4805.418 & NA &  5.7 & 137.519\\\\\n",
       "\t264 & Middle East   & 1998 &  -3.6 &  4659.341 & NA &  5.8 & 140.461\\\\\n",
       "\t265 & Middle East   & 1999 &   1.6 &  5321.071 & NA &  5.6 & 143.145\\\\\n",
       "\t295 & North America & 1980 &  -0.5 & 10457.985 & NA & 14.6 & 322.857\\\\\n",
       "\t296 & North America & 1981 &  -0.7 & 11686.633 & NA & 12.5 & 327.197\\\\\n",
       "\t297 & North America & 1982 &  -0.1 & 11731.442 & NA & 11.8 & 331.441\\\\\n",
       "\t298 & North America & 1983 &  -0.7 & 12418.412 & NA & 11.4 & 335.540\\\\\n",
       "\t299 & North America & 1984 &  -1.8 & 13601.140 & NA &  9.7 & 339.560\\\\\n",
       "\t300 & North America & 1985 &  -2.4 & 14385.174 & NA &  8.3 & 343.608\\\\\n",
       "\t301 & North America & 1986 &  -3.1 & 14755.961 & NA &  8.5 & 347.732\\\\\n",
       "\t302 & North America & 1987 &  -3.1 & 15564.767 & NA & 12.3 & 351.905\\\\\n",
       "\t303 & North America & 1988 &  -2.3 & 16773.882 & NA & 11.6 & 356.143\\\\\n",
       "\t304 & North America & 1989 &  -2.0 & 17980.238 & NA &  6.2 & 360.572\\\\\n",
       "\t305 & North America & 1990 &  -1.6 & 18830.470 & NA &  7.3 & 365.377\\\\\n",
       "\t306 & North America & 1991 &  -0.6 & 19291.838 & NA &  6.1 & 370.678\\\\\n",
       "\t307 & North America & 1992 &  -1.5 & 20088.555 & NA &  4.2 & 375.988\\\\\n",
       "\t308 & North America & 1993 &  -1.8 & 20918.945 & NA &  3.6 & 381.249\\\\\n",
       "\t309 & North America & 1994 &  -2.1 & 21835.939 & NA &  2.9 & 386.274\\\\\n",
       "\t310 & North America & 1995 &  -1.4 & 22106.304 & NA &  5.5 & 391.220\\\\\n",
       "\t311 & North America & 1996 &  -1.4 & 23123.812 & NA &  5.6 & 396.130\\\\\n",
       "\t312 & North America & 1997 &  -1.6 & 24384.272 & NA &  4.0 & 401.126\\\\\n",
       "\t313 & North America & 1998 &  -2.3 & 25313.179 & NA &  2.9 & 406.011\\\\\n",
       "\t314 & North America & 1999 &  -2.7 & 26696.554 & NA &  3.5 & 410.827\\\\\n",
       "\\end{tabular}\n"
      ],
      "text/markdown": [
       "\n",
       "A data.frame: 137 × 7\n",
       "\n",
       "| <!--/--> | Region &lt;chr&gt; | Year &lt;int&gt; | ACCT &lt;dbl&gt; | GDP &lt;dbl&gt; | GGD &lt;dbl&gt; | INF &lt;dbl&gt; | PPL &lt;dbl&gt; |\n",
       "|---|---|---|---|---|---|---|---|\n",
       "| 1 | Africa           | 1980 |  0.5 |       NA | NA | 16.6 |  449.516 |\n",
       "| 2 | Africa           | 1981 | -4.6 |       NA | NA | 15.8 |  462.287 |\n",
       "| 3 | Africa           | 1982 | -3.7 |       NA | NA | 14.5 |  475.602 |\n",
       "| 4 | Africa           | 1983 | -2.4 |       NA | NA | 15.7 |  489.301 |\n",
       "| 5 | Africa           | 1984 | -2.8 |       NA | NA | 13.6 |  503.780 |\n",
       "| 6 | Africa           | 1985 | -0.6 |       NA | NA | 13.7 |  519.313 |\n",
       "| 7 | Africa           | 1986 | -2.3 |       NA | NA | 17.1 |  533.977 |\n",
       "| 8 | Africa           | 1987 | -1.1 |       NA | NA | 16.2 |  548.759 |\n",
       "| 9 | Africa           | 1988 | -2.3 |       NA | NA | 14.3 |  563.732 |\n",
       "| 10 | Africa           | 1989 | -2.1 |       NA | NA | 16.4 |  580.632 |\n",
       "| 11 | Africa           | 1990 | -0.5 | 1084.136 | NA | 14.1 |  604.286 |\n",
       "| 12 | Africa           | 1991 | -0.8 |  973.911 | NA | 26.5 |  621.106 |\n",
       "| 13 | Africa           | 1992 | -0.2 |  946.132 | NA | 31.1 |  640.649 |\n",
       "| 14 | Africa           | 1993 | -0.9 |  921.085 | NA | 27.5 |  658.958 |\n",
       "| 15 | Africa           | 1994 | -1.7 |  880.654 | NA | 34.2 |  676.019 |\n",
       "| 16 | Africa           | 1995 | -2.1 | 1022.837 | NA | 28.5 |  691.536 |\n",
       "| 17 | Africa           | 1996 |  0.0 | 1114.108 | NA | 26.3 |  708.737 |\n",
       "| 18 | Africa           | 1997 | -0.9 | 1127.871 | NA | 12.5 |  726.685 |\n",
       "| 19 | Africa           | 1998 | -2.8 | 1113.742 | NA |  8.0 |  743.962 |\n",
       "| 20 | Africa           | 1999 | -1.6 |  899.952 | NA |  8.9 |  762.082 |\n",
       "| 50 | Asia and Pacific | 1980 |   NA |  966.343 | NA | 16.0 | 2446.699 |\n",
       "| 51 | Asia and Pacific | 1981 |   NA | 1014.653 | NA | 10.4 | 2491.680 |\n",
       "| 52 | Asia and Pacific | 1982 |   NA |  968.570 | NA |  7.4 | 2539.307 |\n",
       "| 53 | Asia and Pacific | 1983 |   NA | 1010.987 | NA |  6.9 | 2585.030 |\n",
       "| 54 | Asia and Pacific | 1984 |   NA | 1053.728 | NA |  7.6 | 2631.195 |\n",
       "| 55 | Asia and Pacific | 1985 |   NA | 1054.782 | NA |  7.5 | 2679.450 |\n",
       "| 56 | Asia and Pacific | 1986 |   NA | 1316.640 | NA |  7.3 | 2729.421 |\n",
       "| 57 | Asia and Pacific | 1987 |   NA | 1534.652 | NA |  7.6 | 2781.201 |\n",
       "| 58 | Asia and Pacific | 1988 |   NA | 1798.673 | NA | 10.9 | 2832.469 |\n",
       "| 59 | Asia and Pacific | 1989 |   NA | 1836.186 | NA |  9.6 | 2883.725 |\n",
       "| ⋮ | ⋮ | ⋮ | ⋮ | ⋮ | ⋮ | ⋮ | ⋮ |\n",
       "| 256 | Middle East   | 1990 |   0.8 |  7792.567 | NA |  5.1 | 113.331 |\n",
       "| 257 | Middle East   | 1991 | -10.9 |  5377.377 | NA | 10.7 | 116.337 |\n",
       "| 258 | Middle East   | 1992 |  -7.4 |  3376.165 | NA |  9.8 | 119.843 |\n",
       "| 259 | Middle East   | 1993 |  -5.4 |  3478.417 | NA |  9.5 | 124.860 |\n",
       "| 260 | Middle East   | 1994 |  -2.1 |  3693.510 | NA | 12.7 | 128.279 |\n",
       "| 261 | Middle East   | 1995 |  -1.2 |  4057.669 | NA | 17.1 | 131.515 |\n",
       "| 262 | Middle East   | 1996 |   1.3 |  4560.911 | NA |  9.0 | 134.479 |\n",
       "| 263 | Middle East   | 1997 |   1.0 |  4805.418 | NA |  5.7 | 137.519 |\n",
       "| 264 | Middle East   | 1998 |  -3.6 |  4659.341 | NA |  5.8 | 140.461 |\n",
       "| 265 | Middle East   | 1999 |   1.6 |  5321.071 | NA |  5.6 | 143.145 |\n",
       "| 295 | North America | 1980 |  -0.5 | 10457.985 | NA | 14.6 | 322.857 |\n",
       "| 296 | North America | 1981 |  -0.7 | 11686.633 | NA | 12.5 | 327.197 |\n",
       "| 297 | North America | 1982 |  -0.1 | 11731.442 | NA | 11.8 | 331.441 |\n",
       "| 298 | North America | 1983 |  -0.7 | 12418.412 | NA | 11.4 | 335.540 |\n",
       "| 299 | North America | 1984 |  -1.8 | 13601.140 | NA |  9.7 | 339.560 |\n",
       "| 300 | North America | 1985 |  -2.4 | 14385.174 | NA |  8.3 | 343.608 |\n",
       "| 301 | North America | 1986 |  -3.1 | 14755.961 | NA |  8.5 | 347.732 |\n",
       "| 302 | North America | 1987 |  -3.1 | 15564.767 | NA | 12.3 | 351.905 |\n",
       "| 303 | North America | 1988 |  -2.3 | 16773.882 | NA | 11.6 | 356.143 |\n",
       "| 304 | North America | 1989 |  -2.0 | 17980.238 | NA |  6.2 | 360.572 |\n",
       "| 305 | North America | 1990 |  -1.6 | 18830.470 | NA |  7.3 | 365.377 |\n",
       "| 306 | North America | 1991 |  -0.6 | 19291.838 | NA |  6.1 | 370.678 |\n",
       "| 307 | North America | 1992 |  -1.5 | 20088.555 | NA |  4.2 | 375.988 |\n",
       "| 308 | North America | 1993 |  -1.8 | 20918.945 | NA |  3.6 | 381.249 |\n",
       "| 309 | North America | 1994 |  -2.1 | 21835.939 | NA |  2.9 | 386.274 |\n",
       "| 310 | North America | 1995 |  -1.4 | 22106.304 | NA |  5.5 | 391.220 |\n",
       "| 311 | North America | 1996 |  -1.4 | 23123.812 | NA |  5.6 | 396.130 |\n",
       "| 312 | North America | 1997 |  -1.6 | 24384.272 | NA |  4.0 | 401.126 |\n",
       "| 313 | North America | 1998 |  -2.3 | 25313.179 | NA |  2.9 | 406.011 |\n",
       "| 314 | North America | 1999 |  -2.7 | 26696.554 | NA |  3.5 | 410.827 |\n",
       "\n"
      ],
      "text/plain": [
       "    Region           Year ACCT  GDP       GGD INF  PPL     \n",
       "1   Africa           1980  0.5        NA  NA  16.6  449.516\n",
       "2   Africa           1981 -4.6        NA  NA  15.8  462.287\n",
       "3   Africa           1982 -3.7        NA  NA  14.5  475.602\n",
       "4   Africa           1983 -2.4        NA  NA  15.7  489.301\n",
       "5   Africa           1984 -2.8        NA  NA  13.6  503.780\n",
       "6   Africa           1985 -0.6        NA  NA  13.7  519.313\n",
       "7   Africa           1986 -2.3        NA  NA  17.1  533.977\n",
       "8   Africa           1987 -1.1        NA  NA  16.2  548.759\n",
       "9   Africa           1988 -2.3        NA  NA  14.3  563.732\n",
       "10  Africa           1989 -2.1        NA  NA  16.4  580.632\n",
       "11  Africa           1990 -0.5  1084.136  NA  14.1  604.286\n",
       "12  Africa           1991 -0.8   973.911  NA  26.5  621.106\n",
       "13  Africa           1992 -0.2   946.132  NA  31.1  640.649\n",
       "14  Africa           1993 -0.9   921.085  NA  27.5  658.958\n",
       "15  Africa           1994 -1.7   880.654  NA  34.2  676.019\n",
       "16  Africa           1995 -2.1  1022.837  NA  28.5  691.536\n",
       "17  Africa           1996  0.0  1114.108  NA  26.3  708.737\n",
       "18  Africa           1997 -0.9  1127.871  NA  12.5  726.685\n",
       "19  Africa           1998 -2.8  1113.742  NA   8.0  743.962\n",
       "20  Africa           1999 -1.6   899.952  NA   8.9  762.082\n",
       "50  Asia and Pacific 1980   NA   966.343  NA  16.0 2446.699\n",
       "51  Asia and Pacific 1981   NA  1014.653  NA  10.4 2491.680\n",
       "52  Asia and Pacific 1982   NA   968.570  NA   7.4 2539.307\n",
       "53  Asia and Pacific 1983   NA  1010.987  NA   6.9 2585.030\n",
       "54  Asia and Pacific 1984   NA  1053.728  NA   7.6 2631.195\n",
       "55  Asia and Pacific 1985   NA  1054.782  NA   7.5 2679.450\n",
       "56  Asia and Pacific 1986   NA  1316.640  NA   7.3 2729.421\n",
       "57  Asia and Pacific 1987   NA  1534.652  NA   7.6 2781.201\n",
       "58  Asia and Pacific 1988   NA  1798.673  NA  10.9 2832.469\n",
       "59  Asia and Pacific 1989   NA  1836.186  NA   9.6 2883.725\n",
       "⋮   ⋮                ⋮    ⋮     ⋮         ⋮   ⋮    ⋮       \n",
       "256 Middle East      1990   0.8  7792.567 NA   5.1 113.331 \n",
       "257 Middle East      1991 -10.9  5377.377 NA  10.7 116.337 \n",
       "258 Middle East      1992  -7.4  3376.165 NA   9.8 119.843 \n",
       "259 Middle East      1993  -5.4  3478.417 NA   9.5 124.860 \n",
       "260 Middle East      1994  -2.1  3693.510 NA  12.7 128.279 \n",
       "261 Middle East      1995  -1.2  4057.669 NA  17.1 131.515 \n",
       "262 Middle East      1996   1.3  4560.911 NA   9.0 134.479 \n",
       "263 Middle East      1997   1.0  4805.418 NA   5.7 137.519 \n",
       "264 Middle East      1998  -3.6  4659.341 NA   5.8 140.461 \n",
       "265 Middle East      1999   1.6  5321.071 NA   5.6 143.145 \n",
       "295 North America    1980  -0.5 10457.985 NA  14.6 322.857 \n",
       "296 North America    1981  -0.7 11686.633 NA  12.5 327.197 \n",
       "297 North America    1982  -0.1 11731.442 NA  11.8 331.441 \n",
       "298 North America    1983  -0.7 12418.412 NA  11.4 335.540 \n",
       "299 North America    1984  -1.8 13601.140 NA   9.7 339.560 \n",
       "300 North America    1985  -2.4 14385.174 NA   8.3 343.608 \n",
       "301 North America    1986  -3.1 14755.961 NA   8.5 347.732 \n",
       "302 North America    1987  -3.1 15564.767 NA  12.3 351.905 \n",
       "303 North America    1988  -2.3 16773.882 NA  11.6 356.143 \n",
       "304 North America    1989  -2.0 17980.238 NA   6.2 360.572 \n",
       "305 North America    1990  -1.6 18830.470 NA   7.3 365.377 \n",
       "306 North America    1991  -0.6 19291.838 NA   6.1 370.678 \n",
       "307 North America    1992  -1.5 20088.555 NA   4.2 375.988 \n",
       "308 North America    1993  -1.8 20918.945 NA   3.6 381.249 \n",
       "309 North America    1994  -2.1 21835.939 NA   2.9 386.274 \n",
       "310 North America    1995  -1.4 22106.304 NA   5.5 391.220 \n",
       "311 North America    1996  -1.4 23123.812 NA   5.6 396.130 \n",
       "312 North America    1997  -1.6 24384.272 NA   4.0 401.126 \n",
       "313 North America    1998  -2.3 25313.179 NA   2.9 406.011 \n",
       "314 North America    1999  -2.7 26696.554 NA   3.5 410.827 "
      ]
     },
     "metadata": {},
     "output_type": "display_data"
    }
   ],
   "source": [
    "#Compare and Contrast to identify the row number(s)\n",
    "missing_rows <- df_select[apply(is.na(df_select), 1, any), ]\n",
    "missing_rows\n",
    "\n",
    "missing_rows_org <- df[apply(is.na(df), 1, any), ]\n",
    "missing_rows_org\n"
   ]
  },
  {
   "cell_type": "code",
   "execution_count": 5,
   "id": "873dbf50-d28a-4464-9a6c-adfc8e342644",
   "metadata": {},
   "outputs": [
    {
     "data": {
      "text/plain": [
       "    Region               Year           ACCT              GDP         \n",
       " Length:161         Min.   :2000   Min.   :-6.3000   Min.   :  848.1  \n",
       " Class :character   1st Qu.:2005   1st Qu.:-2.1000   1st Qu.: 5067.4  \n",
       " Mode  :character   Median :2011   Median : 0.0000   Median :10223.5  \n",
       "                    Mean   :2011   Mean   : 0.6957   Mean   :19228.1  \n",
       "                    3rd Qu.:2017   3rd Qu.: 2.2000   3rd Qu.:32228.4  \n",
       "                    Max.   :2022   Max.   :15.9000   Max.   :57617.7  \n",
       "      GGD              INF              PPL        \n",
       " Min.   : 21.30   Min.   :-0.100   Min.   : 146.0  \n",
       " 1st Qu.: 50.50   1st Qu.: 2.700   1st Qu.: 489.1  \n",
       " Median : 65.70   Median : 4.000   Median : 723.2  \n",
       " Mean   : 69.78   Mean   : 4.959   Mean   :1110.4  \n",
       " 3rd Qu.: 85.20   3rd Qu.: 6.700   3rd Qu.: 883.3  \n",
       " Max.   :140.40   Max.   :14.500   Max.   :4392.5  "
      ]
     },
     "metadata": {},
     "output_type": "display_data"
    },
    {
     "data": {
      "text/html": [],
      "text/latex": [],
      "text/markdown": [],
      "text/plain": [
       "integer(0)"
      ]
     },
     "metadata": {},
     "output_type": "display_data"
    },
    {
     "name": "stdout",
     "output_type": "stream",
     "text": [
      "'data.frame':\t161 obs. of  7 variables:\n",
      " $ Region: chr  \"Africa\" \"Africa\" \"Africa\" \"Africa\" ...\n",
      " $ Year  : int  2000 2001 2002 2003 2004 2005 2006 2007 2008 2009 ...\n",
      " $ ACCT  : num  2.1 0.8 -0.2 0.6 2.6 5.7 6.2 4.5 3.5 -1.9 ...\n",
      " $ GDP   : num  900 851 848 999 1167 ...\n",
      " $ GGD   : num  65.7 63.9 59.7 55.3 49.8 43.2 35.2 30.8 28.9 33.2 ...\n",
      " $ INF   : num  9.4 8.2 7.1 7.6 7.5 7.4 5.7 6.3 11 9.5 ...\n",
      " $ PPL   : num  782 801 821 841 862 ...\n"
     ]
    }
   ],
   "source": [
    "#Example 1: Find Location of Missing Values\n",
    "summary(df_select)\n",
    "which(is.na(df_select))\n",
    "#sum(is.na(df_select$Value))\n",
    "\n",
    "#Example 2: Count Missing Values in All Columns\n",
    "#sapply(df_select, function(x) sum(is.na(x)))\n",
    "\n",
    "#Example 3: Count Missing Values in Entire Data Frame\n",
    "#sum(is.na(df_select))\n",
    "#View(df_select)\n",
    "str(df_select)"
   ]
  },
  {
   "cell_type": "markdown",
   "id": "25ff80e9-575e-420a-9314-77e1b2d40d7e",
   "metadata": {},
   "source": [
    "# Missing values (Drop na)"
   ]
  },
  {
   "cell_type": "code",
   "execution_count": 13,
   "id": "f252da82-af5c-459f-a623-c4512a02e365",
   "metadata": {},
   "outputs": [
    {
     "data": {
      "text/html": [
       "\n",
       "<table style=\"width: 100%;\"><tr><td>subset {base}</td><td style=\"text-align: right;\">R Documentation</td></tr></table>\n",
       "\n",
       "<h2 id='subset'>Subsetting Vectors, Matrices and Data Frames</h2>\n",
       "\n",
       "<h3>Description</h3>\n",
       "\n",
       "<p>Return subsets of vectors, matrices or data frames which meet conditions.\n",
       "</p>\n",
       "\n",
       "\n",
       "<h3>Usage</h3>\n",
       "\n",
       "<pre><code class='language-R'>subset(x, ...)\n",
       "\n",
       "## Default S3 method:\n",
       "subset(x, subset, ...)\n",
       "\n",
       "## S3 method for class 'matrix'\n",
       "subset(x, subset, select, drop = FALSE, ...)\n",
       "\n",
       "## S3 method for class 'data.frame'\n",
       "subset(x, subset, select, drop = FALSE, ...)\n",
       "</code></pre>\n",
       "\n",
       "\n",
       "<h3>Arguments</h3>\n",
       "\n",
       "<table>\n",
       "<tr><td><code id=\"subset_:_x\">x</code></td>\n",
       "<td>\n",
       "<p>object to be subsetted.</p>\n",
       "</td></tr>\n",
       "<tr><td><code id=\"subset_:_subset\">subset</code></td>\n",
       "<td>\n",
       "<p>logical expression indicating elements or rows to keep:\n",
       "missing values are taken as false.</p>\n",
       "</td></tr>\n",
       "<tr><td><code id=\"subset_:_select\">select</code></td>\n",
       "<td>\n",
       "<p>expression, indicating columns to select from a\n",
       "data frame.</p>\n",
       "</td></tr>\n",
       "<tr><td><code id=\"subset_:_drop\">drop</code></td>\n",
       "<td>\n",
       "<p>passed on to <code>[</code> indexing operator.</p>\n",
       "</td></tr>\n",
       "<tr><td><code id=\"subset_:_...\">...</code></td>\n",
       "<td>\n",
       "<p>further arguments to be passed to or from other methods.</p>\n",
       "</td></tr>\n",
       "</table>\n",
       "\n",
       "\n",
       "<h3>Details</h3>\n",
       "\n",
       "<p>This is a generic function, with methods supplied for matrices, data\n",
       "frames and vectors (including lists).  Packages and users can add\n",
       "further methods.\n",
       "</p>\n",
       "<p>For ordinary vectors, the result is simply\n",
       "<code>x[subset &amp; !is.na(subset)]</code>.\n",
       "</p>\n",
       "<p>For data frames, the <code>subset</code> argument works on the rows.  Note\n",
       "that <code>subset</code> will be evaluated in the data frame, so columns can\n",
       "be referred to (by name) as variables in the expression (see the examples).\n",
       "</p>\n",
       "<p>The <code>select</code> argument exists only for the methods for data frames\n",
       "and matrices.  It works by first replacing column names in the\n",
       "selection expression with the corresponding column numbers in the data\n",
       "frame and then using the resulting integer vector to index the\n",
       "columns.  This allows the use of the standard indexing conventions so\n",
       "that for example ranges of columns can be specified easily, or single\n",
       "columns can be dropped (see the examples).\n",
       "</p>\n",
       "<p>The <code>drop</code> argument is passed on to the indexing method for\n",
       "matrices and data frames: note that the default for matrices is\n",
       "different from that for indexing.\n",
       "</p>\n",
       "<p>Factors may have empty levels after subsetting; unused levels are\n",
       "not automatically removed.  See <code>droplevels</code> for a way to\n",
       "drop all unused levels from a data frame.\n",
       "</p>\n",
       "\n",
       "\n",
       "<h3>Value</h3>\n",
       "\n",
       "<p>An object similar to <code>x</code> contain just the selected elements (for\n",
       "a vector), rows and columns (for a matrix or data frame), and so on.\n",
       "</p>\n",
       "\n",
       "\n",
       "<h3>Warning</h3>\n",
       "\n",
       "<p>This is a convenience function intended for use interactively.  For\n",
       "programming it is better to use the standard subsetting functions like\n",
       "<code>[</code>, and in particular the non-standard evaluation of\n",
       "argument <code>subset</code> can have unanticipated consequences.\n",
       "</p>\n",
       "\n",
       "\n",
       "<h3>Author(s)</h3>\n",
       "\n",
       "<p>Peter Dalgaard and Brian Ripley</p>\n",
       "\n",
       "\n",
       "<h3>See Also</h3>\n",
       "\n",
       "<p><code>[</code>, \n",
       "<code>transform</code>\n",
       "<code>droplevels</code>\n",
       "</p>\n",
       "\n",
       "\n",
       "<h3>Examples</h3>\n",
       "\n",
       "<pre><code class='language-R'>subset(airquality, Temp &gt; 80, select = c(Ozone, Temp))\n",
       "subset(airquality, Day == 1, select = -Temp)\n",
       "subset(airquality, select = Ozone:Wind)\n",
       "\n",
       "with(airquality, subset(Ozone, Temp &gt; 80))\n",
       "\n",
       "## sometimes requiring a logical 'subset' argument is a nuisance\n",
       "nm &lt;- rownames(state.x77)\n",
       "start_with_M &lt;- nm %in% grep(\"^M\", nm, value = TRUE)\n",
       "subset(state.x77, start_with_M, Illiteracy:Murder)\n",
       "# but in recent versions of R this can simply be\n",
       "subset(state.x77, grepl(\"^M\", nm), Illiteracy:Murder)\n",
       "</code></pre>\n",
       "\n",
       "<hr /><div style=\"text-align: center;\">[Package <em>base</em> version 4.3.1 ]</div>\n",
       "</div>"
      ],
      "text/latex": [
       "\\inputencoding{utf8}\n",
       "\\HeaderA{subset}{Subsetting Vectors, Matrices and Data Frames}{subset}\n",
       "\\methaliasA{subset.data.frame}{subset}{subset.data.frame}\n",
       "\\methaliasA{subset.default}{subset}{subset.default}\n",
       "\\methaliasA{subset.matrix}{subset}{subset.matrix}\n",
       "\\keyword{manip}{subset}\n",
       "%\n",
       "\\begin{Description}\n",
       "Return subsets of vectors, matrices or data frames which meet conditions.\n",
       "\\end{Description}\n",
       "%\n",
       "\\begin{Usage}\n",
       "\\begin{verbatim}\n",
       "subset(x, ...)\n",
       "\n",
       "## Default S3 method:\n",
       "subset(x, subset, ...)\n",
       "\n",
       "## S3 method for class 'matrix'\n",
       "subset(x, subset, select, drop = FALSE, ...)\n",
       "\n",
       "## S3 method for class 'data.frame'\n",
       "subset(x, subset, select, drop = FALSE, ...)\n",
       "\\end{verbatim}\n",
       "\\end{Usage}\n",
       "%\n",
       "\\begin{Arguments}\n",
       "\\begin{ldescription}\n",
       "\\item[\\code{x}] object to be subsetted.\n",
       "\\item[\\code{subset}] logical expression indicating elements or rows to keep:\n",
       "missing values are taken as false.\n",
       "\\item[\\code{select}] expression, indicating columns to select from a\n",
       "data frame.\n",
       "\\item[\\code{drop}] passed on to \\code{[} indexing operator.\n",
       "\\item[\\code{...}] further arguments to be passed to or from other methods.\n",
       "\\end{ldescription}\n",
       "\\end{Arguments}\n",
       "%\n",
       "\\begin{Details}\n",
       "This is a generic function, with methods supplied for matrices, data\n",
       "frames and vectors (including lists).  Packages and users can add\n",
       "further methods.\n",
       "\n",
       "For ordinary vectors, the result is simply\n",
       "\\code{x[subset \\& !is.na(subset)]}.\n",
       "\n",
       "For data frames, the \\code{subset} argument works on the rows.  Note\n",
       "that \\code{subset} will be evaluated in the data frame, so columns can\n",
       "be referred to (by name) as variables in the expression (see the examples).\n",
       "\n",
       "The \\code{select} argument exists only for the methods for data frames\n",
       "and matrices.  It works by first replacing column names in the\n",
       "selection expression with the corresponding column numbers in the data\n",
       "frame and then using the resulting integer vector to index the\n",
       "columns.  This allows the use of the standard indexing conventions so\n",
       "that for example ranges of columns can be specified easily, or single\n",
       "columns can be dropped (see the examples).\n",
       "\n",
       "The \\code{drop} argument is passed on to the indexing method for\n",
       "matrices and data frames: note that the default for matrices is\n",
       "different from that for indexing.\n",
       "\n",
       "Factors may have empty levels after subsetting; unused levels are\n",
       "not automatically removed.  See \\code{\\LinkA{droplevels}{droplevels}} for a way to\n",
       "drop all unused levels from a data frame.\n",
       "\n",
       "\\end{Details}\n",
       "%\n",
       "\\begin{Value}\n",
       "An object similar to \\code{x} contain just the selected elements (for\n",
       "a vector), rows and columns (for a matrix or data frame), and so on.\n",
       "\\end{Value}\n",
       "%\n",
       "\\begin{Section}{Warning}\n",
       "This is a convenience function intended for use interactively.  For\n",
       "programming it is better to use the standard subsetting functions like\n",
       "\\code{\\LinkA{[}{[}}, and in particular the non-standard evaluation of\n",
       "argument \\code{subset} can have unanticipated consequences.\n",
       "\\end{Section}\n",
       "%\n",
       "\\begin{Author}\n",
       "Peter Dalgaard and Brian Ripley\n",
       "\\end{Author}\n",
       "%\n",
       "\\begin{SeeAlso}\n",
       "\\code{\\LinkA{[}{[}}, \n",
       "\\code{\\LinkA{transform}{transform}}\n",
       "\\code{\\LinkA{droplevels}{droplevels}}\n",
       "\\end{SeeAlso}\n",
       "%\n",
       "\\begin{Examples}\n",
       "\\begin{ExampleCode}\n",
       "subset(airquality, Temp > 80, select = c(Ozone, Temp))\n",
       "subset(airquality, Day == 1, select = -Temp)\n",
       "subset(airquality, select = Ozone:Wind)\n",
       "\n",
       "with(airquality, subset(Ozone, Temp > 80))\n",
       "\n",
       "## sometimes requiring a logical 'subset' argument is a nuisance\n",
       "nm <- rownames(state.x77)\n",
       "start_with_M <- nm %in% grep(\"^M\", nm, value = TRUE)\n",
       "subset(state.x77, start_with_M, Illiteracy:Murder)\n",
       "# but in recent versions of R this can simply be\n",
       "subset(state.x77, grepl(\"^M\", nm), Illiteracy:Murder)\n",
       "\\end{ExampleCode}\n",
       "\\end{Examples}"
      ],
      "text/plain": [
       "subset                  package:base                   R Documentation\n",
       "\n",
       "_\bS_\bu_\bb_\bs_\be_\bt_\bt_\bi_\bn_\bg _\bV_\be_\bc_\bt_\bo_\br_\bs, _\bM_\ba_\bt_\br_\bi_\bc_\be_\bs _\ba_\bn_\bd _\bD_\ba_\bt_\ba _\bF_\br_\ba_\bm_\be_\bs\n",
       "\n",
       "_\bD_\be_\bs_\bc_\br_\bi_\bp_\bt_\bi_\bo_\bn:\n",
       "\n",
       "     Return subsets of vectors, matrices or data frames which meet\n",
       "     conditions.\n",
       "\n",
       "_\bU_\bs_\ba_\bg_\be:\n",
       "\n",
       "     subset(x, ...)\n",
       "     \n",
       "     ## Default S3 method:\n",
       "     subset(x, subset, ...)\n",
       "     \n",
       "     ## S3 method for class 'matrix'\n",
       "     subset(x, subset, select, drop = FALSE, ...)\n",
       "     \n",
       "     ## S3 method for class 'data.frame'\n",
       "     subset(x, subset, select, drop = FALSE, ...)\n",
       "     \n",
       "_\bA_\br_\bg_\bu_\bm_\be_\bn_\bt_\bs:\n",
       "\n",
       "       x: object to be subsetted.\n",
       "\n",
       "  subset: logical expression indicating elements or rows to keep:\n",
       "          missing values are taken as false.\n",
       "\n",
       "  select: expression, indicating columns to select from a data frame.\n",
       "\n",
       "    drop: passed on to '[' indexing operator.\n",
       "\n",
       "     ...: further arguments to be passed to or from other methods.\n",
       "\n",
       "_\bD_\be_\bt_\ba_\bi_\bl_\bs:\n",
       "\n",
       "     This is a generic function, with methods supplied for matrices,\n",
       "     data frames and vectors (including lists).  Packages and users can\n",
       "     add further methods.\n",
       "\n",
       "     For ordinary vectors, the result is simply 'x[subset &\n",
       "     !is.na(subset)]'.\n",
       "\n",
       "     For data frames, the 'subset' argument works on the rows.  Note\n",
       "     that 'subset' will be evaluated in the data frame, so columns can\n",
       "     be referred to (by name) as variables in the expression (see the\n",
       "     examples).\n",
       "\n",
       "     The 'select' argument exists only for the methods for data frames\n",
       "     and matrices.  It works by first replacing column names in the\n",
       "     selection expression with the corresponding column numbers in the\n",
       "     data frame and then using the resulting integer vector to index\n",
       "     the columns.  This allows the use of the standard indexing\n",
       "     conventions so that for example ranges of columns can be specified\n",
       "     easily, or single columns can be dropped (see the examples).\n",
       "\n",
       "     The 'drop' argument is passed on to the indexing method for\n",
       "     matrices and data frames: note that the default for matrices is\n",
       "     different from that for indexing.\n",
       "\n",
       "     Factors may have empty levels after subsetting; unused levels are\n",
       "     not automatically removed.  See 'droplevels' for a way to drop all\n",
       "     unused levels from a data frame.\n",
       "\n",
       "_\bV_\ba_\bl_\bu_\be:\n",
       "\n",
       "     An object similar to 'x' contain just the selected elements (for a\n",
       "     vector), rows and columns (for a matrix or data frame), and so on.\n",
       "\n",
       "_\bW_\ba_\br_\bn_\bi_\bn_\bg:\n",
       "\n",
       "     This is a convenience function intended for use interactively.\n",
       "     For programming it is better to use the standard subsetting\n",
       "     functions like '[', and in particular the non-standard evaluation\n",
       "     of argument 'subset' can have unanticipated consequences.\n",
       "\n",
       "_\bA_\bu_\bt_\bh_\bo_\br(_\bs):\n",
       "\n",
       "     Peter Dalgaard and Brian Ripley\n",
       "\n",
       "_\bS_\be_\be _\bA_\bl_\bs_\bo:\n",
       "\n",
       "     '[', 'transform' 'droplevels'\n",
       "\n",
       "_\bE_\bx_\ba_\bm_\bp_\bl_\be_\bs:\n",
       "\n",
       "     subset(airquality, Temp > 80, select = c(Ozone, Temp))\n",
       "     subset(airquality, Day == 1, select = -Temp)\n",
       "     subset(airquality, select = Ozone:Wind)\n",
       "     \n",
       "     with(airquality, subset(Ozone, Temp > 80))\n",
       "     \n",
       "     ## sometimes requiring a logical 'subset' argument is a nuisance\n",
       "     nm <- rownames(state.x77)\n",
       "     start_with_M <- nm %in% grep(\"^M\", nm, value = TRUE)\n",
       "     subset(state.x77, start_with_M, Illiteracy:Murder)\n",
       "     # but in recent versions of R this can simply be\n",
       "     subset(state.x77, grepl(\"^M\", nm), Illiteracy:Murder)\n",
       "     "
      ]
     },
     "metadata": {},
     "output_type": "display_data"
    }
   ],
   "source": [
    "help(subset)"
   ]
  },
  {
   "cell_type": "code",
   "execution_count": 6,
   "id": "ee0dc7eb-882f-4c36-9abc-6932a6318022",
   "metadata": {},
   "outputs": [
    {
     "data": {
      "text/html": [
       "161"
      ],
      "text/latex": [
       "161"
      ],
      "text/markdown": [
       "161"
      ],
      "text/plain": [
       "[1] 161"
      ]
     },
     "metadata": {},
     "output_type": "display_data"
    },
    {
     "data": {
      "text/html": [
       "161"
      ],
      "text/latex": [
       "161"
      ],
      "text/markdown": [
       "161"
      ],
      "text/plain": [
       "[1] 161"
      ]
     },
     "metadata": {},
     "output_type": "display_data"
    },
    {
     "data": {
      "text/html": [
       "161"
      ],
      "text/latex": [
       "161"
      ],
      "text/markdown": [
       "161"
      ],
      "text/plain": [
       "[1] 161"
      ]
     },
     "metadata": {},
     "output_type": "display_data"
    }
   ],
   "source": [
    "df1 <- na.omit(df_select)\n",
    "nrow(df1)\n",
    "\n",
    "missing <- is.na(df_select)\n",
    "#df_sub <- subset(df_select, subset=!missing) # since missing=0, this line of code would not make sense\n",
    "df_sub <- df_select\n",
    "nrow(df_sub)\n",
    "\n",
    "library(tidyr) #--- drop_na() in tidyr pkg\n",
    "df_magic <- df_select %>% drop_na()\n",
    "nrow(df_magic)"
   ]
  },
  {
   "cell_type": "markdown",
   "id": "822c8a52-5a5d-4a28-a5a1-a5f66e20ef4d",
   "metadata": {},
   "source": [
    "# Replace missing value --- after investigation\n",
    "- Found US data (Year = 2000)\n",
    "- Extrapolate G7 data (Year = 2000)"
   ]
  },
  {
   "cell_type": "code",
   "execution_count": 7,
   "id": "67f25ece-bdc3-415a-8287-780f9600f2d6",
   "metadata": {},
   "outputs": [],
   "source": [
    "# Load the necessary library\n",
    "library(readr)\n",
    "\n",
    "# Read the csv file\n",
    "df_test <- read_csv(\"weo_092423.csv\", show_col_types = FALSE)\n",
    "\n",
    "# Overwrite a cell\n",
    "# Replace 'row', 'column' with the row number and column name respectively\n",
    "df_test[217, \"GGD\", col_types = col_types1, show_col_types = FALSE] <- 75.9\n",
    "df_test[315, \"GGD\", col_types = col_types1, show_col_types = FALSE] <- 55.4\n",
    "\n",
    "# Write the data frame back to the csv file\n",
    "#write_csv(df_test, \"weo_092423.csv\")"
   ]
  },
  {
   "cell_type": "code",
   "execution_count": 8,
   "id": "99c1bd5c-2523-4eb4-93d0-b375494238c4",
   "metadata": {},
   "outputs": [
    {
     "name": "stderr",
     "output_type": "stream",
     "text": [
      "── \u001b[1mAttaching core tidyverse packages\u001b[22m ───────────────────────── tidyverse 2.0.0 ──\n",
      "\u001b[32m✔\u001b[39m \u001b[34mforcats  \u001b[39m 1.0.0     \u001b[32m✔\u001b[39m \u001b[34mpurrr    \u001b[39m 1.0.1\n",
      "\u001b[32m✔\u001b[39m \u001b[34mggplot2  \u001b[39m 3.4.3     \u001b[32m✔\u001b[39m \u001b[34mstringr  \u001b[39m 1.5.0\n",
      "\u001b[32m✔\u001b[39m \u001b[34mlubridate\u001b[39m 1.9.2     \u001b[32m✔\u001b[39m \u001b[34mtibble   \u001b[39m 3.2.1\n",
      "── \u001b[1mConflicts\u001b[22m ─────────────────────────────────────────── tidyverse_conflicts() ──\n",
      "\u001b[31m✖\u001b[39m \u001b[34mdplyr\u001b[39m::\u001b[32mfilter()\u001b[39m masks \u001b[34mstats\u001b[39m::filter()\n",
      "\u001b[31m✖\u001b[39m \u001b[34mdplyr\u001b[39m::\u001b[32mlag()\u001b[39m    masks \u001b[34mstats\u001b[39m::lag()\n",
      "\u001b[36mℹ\u001b[39m Use the conflicted package (\u001b[3m\u001b[34m<http://conflicted.r-lib.org/>\u001b[39m\u001b[23m) to force all conflicts to become errors\n",
      "Loading required package: viridisLite\n",
      "\n"
     ]
    },
    {
     "data": {
      "image/png": "[encoded data removed]",
      "text/plain": [
       "plot without title"
      ]
     },
     "metadata": {
      "image/png": {
       "height": 420,
       "width": 420
      }
     },
     "output_type": "display_data"
    }
   ],
   "source": [
    "# Libraries\n",
    "library(tidyverse)\n",
    "library(hrbrthemes)\n",
    "library(viridis)\n",
    "\n",
    "# Plot\n",
    "  ggplot(df_select, aes(x=Region, y=GGD, fill=Region)) +\n",
    "    geom_boxplot() +\n",
    "    scale_fill_viridis(discrete = TRUE, alpha=0.6) +\n",
    "    geom_jitter(color=\"black\", size=0.4, alpha=0.9)"
   ]
  },
  {
   "cell_type": "code",
   "execution_count": 6,
   "id": "6edcf7f5-d890-4ee5-b3ea-ba37f84b530b",
   "metadata": {},
   "outputs": [
    {
     "data": {
      "text/html": [
       "<table class=\"dataframe\">\n",
       "<caption>A data.frame: 0 × 7</caption>\n",
       "<thead>\n",
       "\t<tr><th scope=col>Region</th><th scope=col>Year</th><th scope=col>ACCT</th><th scope=col>GDP</th><th scope=col>GGD</th><th scope=col>INF</th><th scope=col>PPL</th></tr>\n",
       "\t<tr><th scope=col>&lt;chr&gt;</th><th scope=col>&lt;int&gt;</th><th scope=col>&lt;dbl&gt;</th><th scope=col>&lt;dbl&gt;</th><th scope=col>&lt;dbl&gt;</th><th scope=col>&lt;dbl&gt;</th><th scope=col>&lt;dbl&gt;</th></tr>\n",
       "</thead>\n",
       "<tbody>\n",
       "</tbody>\n",
       "</table>\n"
      ],
      "text/latex": [
       "A data.frame: 0 × 7\n",
       "\\begin{tabular}{lllllll}\n",
       " Region & Year & ACCT & GDP & GGD & INF & PPL\\\\\n",
       " <chr> & <int> & <dbl> & <dbl> & <dbl> & <dbl> & <dbl>\\\\\n",
       "\\hline\n",
       "\\end{tabular}\n"
      ],
      "text/markdown": [
       "\n",
       "A data.frame: 0 × 7\n",
       "\n",
       "| Region &lt;chr&gt; | Year &lt;int&gt; | ACCT &lt;dbl&gt; | GDP &lt;dbl&gt; | GGD &lt;dbl&gt; | INF &lt;dbl&gt; | PPL &lt;dbl&gt; |\n",
       "|---|---|---|---|---|---|---|\n",
       "\n"
      ],
      "text/plain": [
       "     Region Year ACCT GDP GGD INF PPL"
      ]
     },
     "metadata": {},
     "output_type": "display_data"
    }
   ],
   "source": [
    "#After replacement, check again to see the existence of the missing data\n",
    "\n",
    "#df_test <- read.csv(\"weo_092423_test.csv\")\n",
    "#df_select_test <- df_test %>% \n",
    "#            filter(Year %in% 2000:2022) \n",
    "#nrow(df_select_test)\n",
    "missing_rows_test <- df_select[apply(is.na(df_select), 1, any), ]\n",
    "missing_rows_test"
   ]
  },
  {
   "cell_type": "markdown",
   "id": "5747fcaf-a4b5-45c2-9895-7da5a3543dc9",
   "metadata": {},
   "source": [
    "# Color - plz refer to color.ipynb file for details"
   ]
  },
  {
   "cell_type": "code",
   "execution_count": 137,
   "id": "2b0b9cdb-6366-4b1d-af4c-4e4a9b9e5fd5",
   "metadata": {},
   "outputs": [],
   "source": [
    "#colors()\n",
    "#hexcode: https://htmlcolorcodes.com/\n",
    "#hexcode: https://htmlcolorcodes.com/color-chart/"
   ]
  },
  {
   "cell_type": "code",
   "execution_count": 140,
   "id": "352f6814-307f-4910-a7c5-622aceb11878",
   "metadata": {},
   "outputs": [
    {
     "data": {
      "image/png": "[encoded data removed]",
      "text/plain": [
       "plot without title"
      ]
     },
     "metadata": {
      "image/png": {
       "height": 420,
       "width": 420
      }
     },
     "output_type": "display_data"
    },
    {
     "data": {
      "image/png": "[encoded data removed]",
      "text/plain": [
       "plot without title"
      ]
     },
     "metadata": {
      "image/png": {
       "height": 420,
       "width": 420
      }
     },
     "output_type": "display_data"
    },
    {
     "data": {
      "image/png": "[encoded data removed]",
      "text/plain": [
       "plot without title"
      ]
     },
     "metadata": {
      "image/png": {
       "height": 420,
       "width": 420
      }
     },
     "output_type": "display_data"
    },
    {
     "data": {
      "image/png": "[encoded data removed]",
      "text/plain": [
       "plot without title"
      ]
     },
     "metadata": {
      "image/png": {
       "height": 420,
       "width": 420
      }
     },
     "output_type": "display_data"
    },
    {
     "data": {
      "image/png": "[encoded data removed]",
      "text/plain": [
       "plot without title"
      ]
     },
     "metadata": {
      "image/png": {
       "height": 420,
       "width": 420
      }
     },
     "output_type": "display_data"
    }
   ],
   "source": [
    "\"\"\"\n",
    "library(RColorBrewer)\n",
    "par(mar=c(3,4,2,2))\n",
    "display.brewer.all()\n",
    "barplot(1:5, col=brewer.pal(5, name = 'Reds'))\n",
    "\n",
    "# Use rainbow colors\n",
    "barplot(1:5, col=rainbow(5))\n",
    "\n",
    "# Use heat.colors\n",
    "#barplot(1:5, col=heat.colors(5))\n",
    "\n",
    "# Use terrain.colors\n",
    "barplot(1:5, col=terrain.colors(5))\n",
    "\n",
    "# Use topo.colors\n",
    "#barplot(1:5, col=topo.colors(5))\n",
    "\n",
    "# Use cm.colors\n",
    "barplot(1:5, col=cm.colors(5))\n",
    "\"\"\""
   ]
  },
  {
   "cell_type": "markdown",
   "id": "4ce39c18-53ce-43b8-8e8a-8bc66f3b48be",
   "metadata": {},
   "source": [
    "# Boxplot - use df_select onward"
   ]
  },
  {
   "cell_type": "code",
   "execution_count": 10,
   "id": "f52544a2-54c2-4652-8df9-bf71c04d0880",
   "metadata": {},
   "outputs": [
    {
     "data": {
      "text/html": [
       "<style>\n",
       ".list-inline {list-style: none; margin:0; padding: 0}\n",
       ".list-inline>li {display: inline-block}\n",
       ".list-inline>li:not(:last-child)::after {content: \"\\00b7\"; padding: 0 .5ex}\n",
       "</style>\n",
       "<ol class=list-inline><li>'Region'</li><li>'Year'</li><li>'ACCT'</li><li>'GDP'</li><li>'GGD'</li><li>'INF'</li><li>'PPL'</li></ol>\n"
      ],
      "text/latex": [
       "\\begin{enumerate*}\n",
       "\\item 'Region'\n",
       "\\item 'Year'\n",
       "\\item 'ACCT'\n",
       "\\item 'GDP'\n",
       "\\item 'GGD'\n",
       "\\item 'INF'\n",
       "\\item 'PPL'\n",
       "\\end{enumerate*}\n"
      ],
      "text/markdown": [
       "1. 'Region'\n",
       "2. 'Year'\n",
       "3. 'ACCT'\n",
       "4. 'GDP'\n",
       "5. 'GGD'\n",
       "6. 'INF'\n",
       "7. 'PPL'\n",
       "\n",
       "\n"
      ],
      "text/plain": [
       "[1] \"Region\" \"Year\"   \"ACCT\"   \"GDP\"    \"GGD\"    \"INF\"    \"PPL\"   "
      ]
     },
     "metadata": {},
     "output_type": "display_data"
    }
   ],
   "source": [
    "#EXECUTE EACH TIME !!!\n",
    "\n",
    "# Modify Region values as they are too long/crowded in the graph\n",
    "# Assuming 'df' is your data frame and 'Region' is the column you want to modify\n",
    "\n",
    "df_select$Region <- gsub(\"Asia and Pacific\", \"APAC\", df_select$Region)\n",
    "df_select$Region <- gsub(\"Latin America and the Caribbean\", \"LATAM\", df_select$Region)\n",
    "df_select$Region <- gsub(\"Major advanced economies \\\\(G7\\\\)\", \"G7\", df_select$Region)\n",
    "df_select$Region <- gsub(\"North America\", \"NAM\", df_select$Region)\n",
    "df_select$Region <- gsub(\"Middle East\", \"ME\", df_select$Region)\n",
    "colnames(df_select)"
   ]
  },
  {
   "cell_type": "code",
   "execution_count": 269,
   "id": "e60f7b5c-ac97-4dba-a80b-cf13fd08f9a0",
   "metadata": {},
   "outputs": [],
   "source": [
    "#help(jpeg)"
   ]
  },
  {
   "cell_type": "markdown",
   "id": "ef9f1823-616d-4757-bfff-ffdb9f03d9d9",
   "metadata": {},
   "source": [
    "### Complete boxplot"
   ]
  },
  {
   "cell_type": "code",
   "execution_count": 277,
   "id": "3d38917c-f694-4847-8ff0-26592f9b9343",
   "metadata": {},
   "outputs": [
    {
     "name": "stderr",
     "output_type": "stream",
     "text": [
      "Warning message in grid.Call(C_textBounds, as.graphicsAnnot(x$label), x$x, x$y, :\n",
      "\"font family not found in Windows font database\"\n",
      "Warning message in grid.Call(C_textBounds, as.graphicsAnnot(x$label), x$x, x$y, :\n",
      "\"font family not found in Windows font database\"\n",
      "Warning message in grid.Call(C_textBounds, as.graphicsAnnot(x$label), x$x, x$y, :\n",
      "\"font family not found in Windows font database\"\n",
      "Warning message in grid.Call(C_textBounds, as.graphicsAnnot(x$label), x$x, x$y, :\n",
      "\"font family not found in Windows font database\"\n",
      "Warning message in grid.Call(C_textBounds, as.graphicsAnnot(x$label), x$x, x$y, :\n",
      "\"font family not found in Windows font database\"\n",
      "Warning message in grid.Call(C_textBounds, as.graphicsAnnot(x$label), x$x, x$y, :\n",
      "\"font family not found in Windows font database\"\n",
      "Warning message in grid.Call(C_textBounds, as.graphicsAnnot(x$label), x$x, x$y, :\n",
      "\"font family not found in Windows font database\"\n",
      "Warning message in grid.Call(C_textBounds, as.graphicsAnnot(x$label), x$x, x$y, :\n",
      "\"font family not found in Windows font database\"\n",
      "Warning message in grid.Call(C_textBounds, as.graphicsAnnot(x$label), x$x, x$y, :\n",
      "\"font family not found in Windows font database\"\n",
      "Warning message in grid.Call(C_textBounds, as.graphicsAnnot(x$label), x$x, x$y, :\n",
      "\"font family not found in Windows font database\"\n",
      "Warning message in grid.Call(C_textBounds, as.graphicsAnnot(x$label), x$x, x$y, :\n",
      "\"font family not found in Windows font database\"\n",
      "Warning message in grid.Call(C_textBounds, as.graphicsAnnot(x$label), x$x, x$y, :\n",
      "\"font family not found in Windows font database\"\n",
      "Warning message in grid.Call.graphics(C_text, as.graphicsAnnot(x$label), x$x, x$y, :\n",
      "\"font family not found in Windows font database\"\n",
      "Warning message in grid.Call(C_textBounds, as.graphicsAnnot(x$label), x$x, x$y, :\n",
      "\"font family not found in Windows font database\"\n",
      "Warning message in grid.Call(C_textBounds, as.graphicsAnnot(x$label), x$x, x$y, :\n",
      "\"font family not found in Windows font database\"\n",
      "Warning message in grid.Call(C_textBounds, as.graphicsAnnot(x$label), x$x, x$y, :\n",
      "\"font family not found in Windows font database\"\n"
     ]
    },
    {
     "data": {
      "text/html": [
       "<strong>png:</strong> 2"
      ],
      "text/latex": [
       "\\textbf{png:} 2"
      ],
      "text/markdown": [
       "**png:** 2"
      ],
      "text/plain": [
       "png \n",
       "  2 "
      ]
     },
     "metadata": {},
     "output_type": "display_data"
    }
   ],
   "source": [
    "#https://r-graph-gallery.com/89-box-and-scatter-plot-with-ggplot2.html\n",
    "\n",
    "# Libraries\n",
    "library(tidyverse)\n",
    "library(hrbrthemes)\n",
    "library(viridis)\n",
    "\n",
    "# create a dataset\n",
    "#data <- data.frame(\n",
    "#  name=c( rep(\"A\",500), rep(\"B\",500), rep(\"B\",500), rep(\"C\",20), rep('D', 100)  ),\n",
    "#  value=c( rnorm(500, 10, 5), rnorm(500, 13, 1), rnorm(500, 18, 1), rnorm(20, 25, 4), rnorm(100, 12, 1) )\n",
    "#)\n",
    "\n",
    "###pdf(file = \"ggd.pdf\", bg=\"white\") # pdf is not working at all!!\n",
    "\n",
    "#png(file = \"ggd.png\", bg = \"white\")  # save file size. If desired, width = 1000, height = 1000)\n",
    "\n",
    "jpeg(filename = \"ggd.jpg\",  bg = \"white\") # needs to end with dev.off()\n",
    "\n",
    "\n",
    "# Plot\n",
    "#df_select %>%\n",
    "  ggplot(df_select, aes(x=Region, y=GGD, fill=Region)) +\n",
    "    geom_boxplot() +\n",
    "    scale_fill_viridis(discrete = TRUE, alpha=0.6) +\n",
    "    geom_jitter(color=\"black\", size=0.4, alpha=0.9) +\n",
    "    theme_ipsum() +   \n",
    "    #scale_size_area() +   \n",
    "    theme(\n",
    "      legend.position=\"right\",\n",
    "      plot.title = element_text(hjust = 0.5, vjust=3),\n",
    "      axis.title.x = element_text(hjust=0.5, vjust=-7,color = \"blue\", size = 14, face = \"bold\"), #without this step, the layout is nice too and default\n",
    "      axis.title.y = element_text(hjust=0.5, vjust=10, color = \"blue\", size = 14, face = \"bold\")  #hjust b/t 0 and 1; vjust for vertical alignment\n",
    "    ) +\n",
    "    ggtitle(\"A boxplot with jitter\") +\n",
    "    xlab(\"Region\")+\n",
    "    ylab(\"General Government Gross Debt (% of GDP) \")\n",
    "dev.off()\n",
    "\n"
   ]
  },
  {
   "cell_type": "code",
   "execution_count": 8,
   "id": "2ebc29eb-1af8-4e48-a6e3-360707cde817",
   "metadata": {},
   "outputs": [
    {
     "name": "stderr",
     "output_type": "stream",
     "text": [
      "── \u001b[1mAttaching core tidyverse packages\u001b[22m ───────────────────────── tidyverse 2.0.0 ──\n",
      "\u001b[32m✔\u001b[39m \u001b[34mforcats  \u001b[39m 1.0.0     \u001b[32m✔\u001b[39m \u001b[34mpurrr    \u001b[39m 1.0.1\n",
      "\u001b[32m✔\u001b[39m \u001b[34mggplot2  \u001b[39m 3.4.3     \u001b[32m✔\u001b[39m \u001b[34mstringr  \u001b[39m 1.5.0\n",
      "\u001b[32m✔\u001b[39m \u001b[34mlubridate\u001b[39m 1.9.2     \u001b[32m✔\u001b[39m \u001b[34mtibble   \u001b[39m 3.2.1\n",
      "── \u001b[1mConflicts\u001b[22m ─────────────────────────────────────────── tidyverse_conflicts() ──\n",
      "\u001b[31m✖\u001b[39m \u001b[34mdplyr\u001b[39m::\u001b[32mfilter()\u001b[39m masks \u001b[34mstats\u001b[39m::filter()\n",
      "\u001b[31m✖\u001b[39m \u001b[34mdplyr\u001b[39m::\u001b[32mlag()\u001b[39m    masks \u001b[34mstats\u001b[39m::lag()\n",
      "\u001b[36mℹ\u001b[39m Use the conflicted package (\u001b[3m\u001b[34m<http://conflicted.r-lib.org/>\u001b[39m\u001b[23m) to force all conflicts to become errors\n",
      "Loading required package: viridisLite\n",
      "\n",
      "Warning message in grid.Call(C_stringMetric, as.graphicsAnnot(x$label)):\n",
      "\"font family not found in Windows font database\"\n",
      "Warning message in grid.Call(C_stringMetric, as.graphicsAnnot(x$label)):\n",
      "\"font family not found in Windows font database\"\n",
      "Warning message in grid.Call(C_textBounds, as.graphicsAnnot(x$label), x$x, x$y, :\n",
      "\"font family not found in Windows font database\"\n",
      "Warning message in grid.Call(C_stringMetric, as.graphicsAnnot(x$label)):\n",
      "\"font family not found in Windows font database\"\n",
      "Warning message in grid.Call(C_stringMetric, as.graphicsAnnot(x$label)):\n",
      "\"font family not found in Windows font database\"\n",
      "Warning message in grid.Call(C_textBounds, as.graphicsAnnot(x$label), x$x, x$y, :\n",
      "\"font family not found in Windows font database\"\n",
      "Warning message in grid.Call(C_textBounds, as.graphicsAnnot(x$label), x$x, x$y, :\n",
      "\"font family not found in Windows font database\"\n",
      "Warning message in grid.Call(C_textBounds, as.graphicsAnnot(x$label), x$x, x$y, :\n",
      "\"font family not found in Windows font database\"\n",
      "Warning message in grid.Call(C_textBounds, as.graphicsAnnot(x$label), x$x, x$y, :\n",
      "\"font family not found in Windows font database\"\n",
      "Warning message in grid.Call(C_textBounds, as.graphicsAnnot(x$label), x$x, x$y, :\n",
      "\"font family not found in Windows font database\"\n",
      "Warning message in grid.Call(C_textBounds, as.graphicsAnnot(x$label), x$x, x$y, :\n",
      "\"font family not found in Windows font database\"\n",
      "Warning message in grid.Call(C_textBounds, as.graphicsAnnot(x$label), x$x, x$y, :\n",
      "\"font family not found in Windows font database\"\n",
      "Warning message in grid.Call(C_textBounds, as.graphicsAnnot(x$label), x$x, x$y, :\n",
      "\"font family not found in Windows font database\"\n",
      "Warning message in grid.Call(C_textBounds, as.graphicsAnnot(x$label), x$x, x$y, :\n",
      "\"font family not found in Windows font database\"\n",
      "Warning message in grid.Call(C_textBounds, as.graphicsAnnot(x$label), x$x, x$y, :\n",
      "\"font family not found in Windows font database\"\n",
      "Warning message in grid.Call.graphics(C_text, as.graphicsAnnot(x$label), x$x, x$y, :\n",
      "\"font family not found in Windows font database\"\n",
      "Warning message in grid.Call(C_textBounds, as.graphicsAnnot(x$label), x$x, x$y, :\n",
      "\"font family not found in Windows font database\"\n",
      "Warning message in grid.Call(C_textBounds, as.graphicsAnnot(x$label), x$x, x$y, :\n",
      "\"font family not found in Windows font database\"\n",
      "Warning message in grid.Call(C_textBounds, as.graphicsAnnot(x$label), x$x, x$y, :\n",
      "\"font family not found in Windows font database\"\n"
     ]
    },
    {
     "data": {
      "image/png": "[encoded data removed]",
      "text/plain": [
       "plot without title"
      ]
     },
     "metadata": {
      "image/png": {
       "height": 420,
       "width": 420
      }
     },
     "output_type": "display_data"
    }
   ],
   "source": [
    "#https://r-graph-gallery.com/89-box-and-scatter-plot-with-ggplot2.html\n",
    "\n",
    "# Libraries\n",
    "library(tidyverse)\n",
    "library(hrbrthemes)\n",
    "library(viridis)\n",
    "\n",
    "# Plot\n",
    "  ggplot(df_select, aes(x=Region, y=GGD, fill=Region)) +\n",
    "    geom_boxplot() +\n",
    "    scale_fill_viridis(discrete = TRUE, alpha=0.6) +\n",
    "    geom_jitter(color=\"black\", size=0.4, alpha=0.9) +\n",
    "    theme_ipsum() +   \n",
    "    #scale_size_area() +   \n",
    "    theme(\n",
    "      legend.position=\"right\",\n",
    "      plot.title = element_text(hjust = 0.5, vjust=3),\n",
    "      axis.title.x = element_text(hjust=0.5, vjust=-7,color = \"blue\", size = 14, face = \"bold\"), #without this step, the layout is nice too and default\n",
    "      axis.title.y = element_text(hjust=0.5, vjust=10, color = \"blue\", size = 14, face = \"bold\")  #hjust b/t 0 and 1; vjust for vertical alignment\n",
    "    ) +\n",
    "    ggtitle(\"A boxplot with jitter\") +\n",
    "    xlab(\"Region\")+\n",
    "    ylab(\"General Government Gross Debt (% of GDP) \")\n",
    "\n"
   ]
  },
  {
   "cell_type": "markdown",
   "id": "db7154d9-ddfb-4cd5-bf2f-448f088c0ccd",
   "metadata": {},
   "source": [
    "## A loop to generate multiple plots at once"
   ]
  },
  {
   "cell_type": "code",
   "execution_count": 11,
   "id": "5640545b-47e0-43ea-a0c9-1ecf4c5883dc",
   "metadata": {},
   "outputs": [
    {
     "name": "stderr",
     "output_type": "stream",
     "text": [
      "\u001b[1m\u001b[22mSaving 6.67 x 6.67 in image\n",
      "\u001b[1m\u001b[22mSaving 6.67 x 6.67 in image\n",
      "\u001b[1m\u001b[22mSaving 6.67 x 6.67 in image\n",
      "\u001b[1m\u001b[22mSaving 6.67 x 6.67 in image\n",
      "\u001b[1m\u001b[22mSaving 6.67 x 6.67 in image\n"
     ]
    }
   ],
   "source": [
    "library(tidyverse)\n",
    "library(hrbrthemes)\n",
    "library(viridis)\n",
    "\n",
    "# Define the variables for which you want to create plots\n",
    "variables <- c(\"ACCT\", \"GDP\", \"GGD\", \"INF\", \"PPL\")\n",
    "\n",
    "# Use a loop to create a plot for each variable\n",
    "for (var in variables) {\n",
    "  # Create the plot\n",
    "  p <- ggplot(df_select, aes_string(x=\"Region\", y=var, fill=\"Region\")) +\n",
    "    geom_boxplot() +\n",
    "    scale_fill_viridis(discrete = TRUE, alpha=0.6) +\n",
    "    geom_jitter(color=\"black\", size=0.4, alpha=0.9)\n",
    "  \n",
    "  # Print the plot\n",
    "  #print(p)\n",
    "\n",
    "  # Save the plot\n",
    "  ggsave(paste0(var, \"_plot.png\"), plot = p)\n",
    "\n",
    "}\n",
    "\n"
   ]
  },
  {
   "cell_type": "code",
   "execution_count": 30,
   "id": "2136fd5f-567b-4ba4-8a1f-ed3ce67617cb",
   "metadata": {},
   "outputs": [
    {
     "data": {
      "image/png": "[encoded data removed]",
      "text/plain": [
       "plot without title"
      ]
     },
     "metadata": {
      "image/png": {
       "height": 420,
       "width": 420
      }
     },
     "output_type": "display_data"
    }
   ],
   "source": [
    "library(tidyverse)\n",
    "library(hrbrthemes)\n",
    "library(viridis)\n",
    "library(gridExtra)\n",
    "\n",
    "# Define the variables for which you want to create plots\n",
    "variables <- c(\"ACCT\", \"GDP\", \"GGD\", \"INF\", \"PPL\")\n",
    "\n",
    "# Initialize an empty list to store the plots\n",
    "plot_list <- list()\n",
    "\n",
    "# Use a loop to create a plot for each variable\n",
    "for (var in variables) {\n",
    "  # Create the plot\n",
    "  p <- ggplot(df_select, aes_string(x=\"Region\", y=var, fill=\"Region\")) +\n",
    "    geom_boxplot() +\n",
    "    scale_fill_viridis(discrete = TRUE, alpha=0.6) +\n",
    "    geom_jitter(color=\"black\", size=0.4, alpha=0.9)\n",
    "  \n",
    "  # Add the plot to the list\n",
    "  plot_list[[var]] <- p\n",
    "}\n",
    "\n",
    "# Arrange the plots in one row\n",
    "combined_plot <- do.call(gridExtra::grid.arrange, c(plot_list, ncol=length(plot_list)))\n",
    "\n",
    "# Export the combined plot\n",
    "#ggsave(\"combined_plot.png\", combined_plot)\n",
    "\n",
    "# Export the combined plot with specified dimensions\n",
    "# these dimensions are in inches and will determine the size of the saved image, not the proportions of the plot itself. \n",
    "# The proportions of each individual plot are determined by the plotting area available in each panel and the aspect ratio of the data.\n",
    "ggsave(\"combined_plot.png\", combined_plot, width = 30, height = 10)\n"
   ]
  },
  {
   "cell_type": "code",
   "execution_count": 19,
   "id": "b21438b5-2b68-48bc-81ae-3ffcd752c4c5",
   "metadata": {},
   "outputs": [
    {
     "data": {
      "image/png": "[encoded data removed]",
      "text/plain": [
       "plot without title"
      ]
     },
     "metadata": {
      "image/png": {
       "height": 420,
       "width": 420
      }
     },
     "output_type": "display_data"
    }
   ],
   "source": [
    "library(tidyverse)\n",
    "library(hrbrthemes)\n",
    "library(viridis)\n",
    "library(gridExtra)\n",
    "\n",
    "# Define the variables for which you want to create plots\n",
    "variables <- c(\"GGD\", \"GDP\", \"ACCT\")\n",
    "variables_ylab <- c(\"General Gross Debt (% of GDP) \", \"Gross Domestic Product\", \n",
    "                    \"Current Account Balance (% of GDP)\")\n",
    "\n",
    "# Initialize an empty list to store the plots\n",
    "plot_list <- list()\n",
    "\n",
    "# Use a loop to create a plot for each variable\n",
    "for (i in seq_along(variables)) {\n",
    "  # Create the plot\n",
    "  p <- ggplot(df_select, aes_string(x=\"Region\", y=variables[i], fill=\"Region\")) +\n",
    "    geom_boxplot() +\n",
    "    scale_fill_viridis(discrete = TRUE, alpha=0.6) +\n",
    "    geom_jitter(color=\"black\", size=0.4, alpha=0.9) +\n",
    "    #coord_fixed(ratio = 1) +  # Adjust this ratio as needed\n",
    "    ylab(variables_ylab[i])  # Add y-axis label\n",
    "  \n",
    "  # Add the plot to the list\n",
    "  plot_list[[variables[i]]] <- p\n",
    "}\n",
    "\n",
    "# Arrange the plots in one row\n",
    "combined_plot <- do.call(gridExtra::grid.arrange, c(plot_list, ncol=length(plot_list)))\n",
    "\n",
    "# Export the combined plot with specified dimensions\n",
    "ggsave(\"combined_plot.png\", combined_plot, width = 10, height = 10)\n"
   ]
  },
  {
   "cell_type": "code",
   "execution_count": 20,
   "id": "d417f7d5-78a4-4e85-a561-936a94cb7577",
   "metadata": {},
   "outputs": [
    {
     "name": "stderr",
     "output_type": "stream",
     "text": [
      "Installing package into 'C:/Users/truev/AppData/Local/R/win-library/4.3'\n",
      "(as 'lib' is unspecified)\n",
      "\n",
      "also installing the dependencies 'ggrepel', 'ggsci', 'ggsignif', 'polynom', 'rstatix'\n",
      "\n",
      "\n"
     ]
    },
    {
     "name": "stdout",
     "output_type": "stream",
     "text": [
      "package 'ggrepel' successfully unpacked and MD5 sums checked\n",
      "package 'ggsci' successfully unpacked and MD5 sums checked\n",
      "package 'ggsignif' successfully unpacked and MD5 sums checked\n",
      "package 'polynom' successfully unpacked and MD5 sums checked\n",
      "package 'rstatix' successfully unpacked and MD5 sums checked\n",
      "package 'ggpubr' successfully unpacked and MD5 sums checked\n",
      "\n",
      "The downloaded binary packages are in\n",
      "\tC:\\Users\\truev\\AppData\\Local\\Temp\\Rtmp2Hdz0k\\downloaded_packages\n"
     ]
    }
   ],
   "source": [
    "install.packages(\"ggpubr\")"
   ]
  },
  {
   "cell_type": "code",
   "execution_count": 31,
   "id": "fbb9e0a5-687c-4542-9a5d-de05643cef2d",
   "metadata": {},
   "outputs": [],
   "source": [
    "library(tidyverse)\n",
    "library(hrbrthemes)\n",
    "library(viridis)\n",
    "library(ggpubr)\n",
    "\n",
    "# Define the variables for which you want to create plots\n",
    "variables <- c(\"GGD\", \"GDP\", \"ACCT\")\n",
    "variables_ylab <- c(\"General Gross Debt\", \"Gross Domestic Product\", \"Account\")\n",
    "\n",
    "# Initialize an empty list to store the plots\n",
    "plot_list <- list()\n",
    "\n",
    "# Use a loop to create a plot for each variable\n",
    "for (i in seq_along(variables)) {\n",
    "  # Create the plot\n",
    "  p <- ggplot(df_select, aes_string(x=\"Region\", y=variables[i], fill=\"Region\")) +\n",
    "    geom_boxplot() +\n",
    "    scale_fill_viridis(discrete = TRUE, alpha=0.6) +\n",
    "    geom_jitter(color=\"black\", size=0.4, alpha=0.9) +\n",
    "    #coord_fixed(ratio = 1) +  # Adjust this ratio as needed\n",
    "    ylab(variables_ylab[i])  # Add y-axis label\n",
    "  \n",
    "  # Add the plot to the list\n",
    "  plot_list[[variables[i]]] <- p\n",
    "}\n",
    "\n",
    "# Arrange the plots in one row\n",
    "combined_plot <- ggarrange(plotlist = plot_list, ncol = length(plot_list), align = \"v\")\n",
    "\n",
    "# Export the combined plot with specified dimensions\n",
    "ggsave(\"combined_plot.png\", combined_plot, width = 30, height = 10)\n"
   ]
  },
  {
   "cell_type": "code",
   "execution_count": 270,
   "id": "8bdcf5df-1b29-4dab-9d88-871ef0d56499",
   "metadata": {
    "scrolled": true
   },
   "outputs": [],
   "source": [
    "#help(summarize)"
   ]
  },
  {
   "cell_type": "code",
   "execution_count": 271,
   "id": "1bdc86cb-a1b2-42fc-a238-883258940277",
   "metadata": {},
   "outputs": [],
   "source": [
    "#help(mutate)"
   ]
  },
  {
   "cell_type": "code",
   "execution_count": 41,
   "id": "6ee5a202-e6ac-4187-a6c4-3c68eea7bb22",
   "metadata": {
    "scrolled": true
   },
   "outputs": [
    {
     "ename": "ERROR",
     "evalue": "Error in parse(text = x, srcfile = src): <text>:1:3: unexpected string constant\n9:   mutate(mass_norm = mass / mean(mass, na.rm = TRUE))\n10: \"\n      ^\n",
     "output_type": "error",
     "traceback": [
      "Error in parse(text = x, srcfile = src): <text>:1:3: unexpected string constant\n9:   mutate(mass_norm = mass / mean(mass, na.rm = TRUE))\n10: \"\n      ^\nTraceback:\n"
     ]
    }
   ],
   "source": [
    "\"\"\"\n",
    "starwars %>%\n",
    "  select(name, mass, species) %>%\n",
    "  mutate(mass_norm = mass / mean(mass, na.rm = TRUE))\n",
    "\n",
    "starwars %>%\n",
    "  select(name, mass, species) %>%\n",
    "  group_by(species) %b>%\n",
    "  mutate(mass_norm = mass / mean(mass, na.rm = TRUE))\n",
    "\"\"\""
   ]
  },
  {
   "cell_type": "code",
   "execution_count": 46,
   "id": "daf2b0a7-4bdc-4f9e-92b6-8e7771c579a1",
   "metadata": {},
   "outputs": [
    {
     "name": "stderr",
     "output_type": "stream",
     "text": [
      "\u001b[1m\u001b[22mJoining with `by = join_by(name)`\n",
      "Warning message:\n",
      "\"\u001b[1m\u001b[22m`position_dodge()` requires non-overlapping \u001b[32mx\u001b[39m intervals\"\n",
      "Warning message in grid.Call(C_textBounds, as.graphicsAnnot(x$label), x$x, x$y, :\n",
      "\"font family not found in Windows font database\"\n",
      "Warning message in grid.Call(C_textBounds, as.graphicsAnnot(x$label), x$x, x$y, :\n",
      "\"font family not found in Windows font database\"\n",
      "Warning message in grid.Call(C_textBounds, as.graphicsAnnot(x$label), x$x, x$y, :\n",
      "\"font family not found in Windows font database\"\n",
      "Warning message in grid.Call(C_textBounds, as.graphicsAnnot(x$label), x$x, x$y, :\n",
      "\"font family not found in Windows font database\"\n",
      "Warning message in grid.Call(C_textBounds, as.graphicsAnnot(x$label), x$x, x$y, :\n",
      "\"font family not found in Windows font database\"\n",
      "Warning message in grid.Call(C_textBounds, as.graphicsAnnot(x$label), x$x, x$y, :\n",
      "\"font family not found in Windows font database\"\n",
      "Warning message in grid.Call(C_textBounds, as.graphicsAnnot(x$label), x$x, x$y, :\n",
      "\"font family not found in Windows font database\"\n",
      "Warning message in grid.Call(C_textBounds, as.graphicsAnnot(x$label), x$x, x$y, :\n",
      "\"font family not found in Windows font database\"\n",
      "Warning message in grid.Call(C_textBounds, as.graphicsAnnot(x$label), x$x, x$y, :\n",
      "\"font family not found in Windows font database\"\n",
      "Warning message in grid.Call(C_textBounds, as.graphicsAnnot(x$label), x$x, x$y, :\n",
      "\"font family not found in Windows font database\"\n",
      "Warning message in grid.Call.graphics(C_text, as.graphicsAnnot(x$label), x$x, x$y, :\n",
      "\"font family not found in Windows font database\"\n",
      "Warning message in grid.Call(C_textBounds, as.graphicsAnnot(x$label), x$x, x$y, :\n",
      "\"font family not found in Windows font database\"\n"
     ]
    },
    {
     "data": {
      "image/png": "[encoded data removed]",
      "text/plain": [
       "plot without title"
      ]
     },
     "metadata": {
      "image/png": {
       "height": 420,
       "width": 420
      }
     },
     "output_type": "display_data"
    }
   ],
   "source": [
    "# Libraries\n",
    "library(ggplot2)\n",
    "library(dplyr)\n",
    "library(hrbrthemes)\n",
    "library(viridis)\n",
    "\n",
    "# create a dataset\n",
    "data <- data.frame(\n",
    "  name=c( rep(\"A\",500), rep(\"B\",500), rep(\"B\",500), rep(\"C\",20), rep('D', 100)  ),\n",
    "  value=c( rnorm(500, 10, 5), rnorm(500, 13, 1), rnorm(500, 18, 1), rnorm(20, 25, 4), rnorm(100, 12, 1) )\n",
    ")\n",
    "\n",
    "# sample size\n",
    "sample_size = data %>% group_by(name) %>% summarize(num=n())\n",
    "\n",
    "# Plot\n",
    "data %>%\n",
    "  left_join(sample_size) %>%\n",
    "  mutate(myaxis = paste0(name, \"\\n\", \"n=\", num)) %>%\n",
    "  ggplot( aes(x=myaxis, y=value, fill=name)) +\n",
    "    geom_violin(width=1.4) +\n",
    "    geom_boxplot(width=0.1, color=\"grey\", alpha=0.2) +\n",
    "    scale_fill_viridis(discrete = TRUE) +\n",
    "    theme_ipsum() +\n",
    "    theme(\n",
    "      legend.position=\"none\",\n",
    "      plot.title = element_text(size=11)\n",
    "    ) +\n",
    "    ggtitle(\"A Violin wrapping a boxplot\") +\n",
    "    xlab(\"\")\n",
    "\n"
   ]
  },
  {
   "cell_type": "markdown",
   "id": "8a6834d6-63a3-40d0-b475-a2a5f77b8401",
   "metadata": {},
   "source": [
    "# Complete Violin plot"
   ]
  },
  {
   "cell_type": "code",
   "execution_count": 2,
   "id": "85421d07-7333-4e39-80fb-00de843ca335",
   "metadata": {},
   "outputs": [
    {
     "name": "stderr",
     "output_type": "stream",
     "text": [
      "\n",
      "Attaching package: 'dplyr'\n",
      "\n",
      "\n",
      "The following objects are masked from 'package:stats':\n",
      "\n",
      "    filter, lag\n",
      "\n",
      "\n",
      "The following objects are masked from 'package:base':\n",
      "\n",
      "    intersect, setdiff, setequal, union\n",
      "\n",
      "\n",
      "Loading required package: viridisLite\n",
      "\n"
     ]
    },
    {
     "ename": "ERROR",
     "evalue": "Error in eval(expr, envir, enclos): object 'df_select' not found\n",
     "output_type": "error",
     "traceback": [
      "Error in eval(expr, envir, enclos): object 'df_select' not found\nTraceback:\n",
      "1. ggplot(df_select, aes(x = Region, y = GGD, fill = Region))"
     ]
    }
   ],
   "source": [
    "\n",
    "#https://r-graph-gallery.com/violin_and_boxplot_ggplot2.html\n",
    "\n",
    "# Libraries\n",
    "library(ggplot2)\n",
    "library(dplyr)\n",
    "library(hrbrthemes)\n",
    "library(viridis)\n",
    "\n",
    "#jpeg(\"ggd_violin.jpg\", bg=\"white\")\n",
    "\n",
    "# create a dataset\n",
    "data <- data.frame(\n",
    "  name=c( rep(\"A\",500), rep(\"B\",500), rep(\"B\",500), rep(\"C\",20), rep('D', 100)  ),\n",
    "  value=c( rnorm(500, 10, 5), rnorm(500, 13, 1), rnorm(500, 18, 1), rnorm(20, 25, 4), rnorm(100, 12, 1) )\n",
    ")\n",
    "\n",
    "# sample size\n",
    "sample_size = data %>% group_by(name) %>% summarize(num=n())\n",
    "#sample_size\n",
    "\n",
    "# Plot\n",
    "#data %>%\n",
    "#  left_join(sample_size) %>%\n",
    "#  mutate(myaxis = paste0(name, \"\\n\", \"n=\", num)) %>%\n",
    "#  ggplot( aes(x=myaxis, y=value, fill=name)) +\n",
    "  ggplot(df_select, aes(x=Region, y=GGD, fill=Region)) +\n",
    "    geom_violin(width=1.4) +\n",
    "    geom_boxplot(width=0.1, color=\"grey\", alpha=0.2) +\n",
    "    #scale_fill_viridis(discrete = TRUE) +\n",
    "    scale_color_brewer(palette = \"Paired\")+\n",
    "    theme_ipsum() +\n",
    "    theme(\n",
    "      legend.position=\"right\",\n",
    "      legend.title= element_text(size = 14, face = \"bold\"),\n",
    "      legend.text=element_text(size=10, face = \"bold\"),\n",
    "      plot.title = element_text(hjust = 0.5, vjust=3),\n",
    "      axis.title.x = element_text(hjust=0.5, vjust=-7,color = \"blue\", size = 14, face = \"bold\"), #without this step, the layout is nice too and default\n",
    "      axis.title.y = element_text(hjust=0.5, vjust=10, color = \"blue\", size = 14, face = \"bold\")  #hjust b/t 0 and 1; vjust for vertical alignment   \n",
    "    ) +\n",
    "    ggtitle(\"A Violin wrapping a boxplot\") +\n",
    "    xlab(\"Region\")+\n",
    "    ylab(\"General Government Gross Debt (% of GDP) \")\n",
    "\n",
    "#dev.off()"
   ]
  },
  {
   "cell_type": "markdown",
   "id": "fc25f859-ffbc-446d-830e-a1b51940dad0",
   "metadata": {},
   "source": [
    "# Scatterplot"
   ]
  },
  {
   "cell_type": "code",
   "execution_count": 78,
   "id": "bba4a1ac-a6c8-4979-a057-daa087c6daaf",
   "metadata": {},
   "outputs": [
    {
     "data": {
      "image/png": "[encoded data removed]",
      "text/plain": [
       "plot without title"
      ]
     },
     "metadata": {
      "image/png": {
       "height": 420,
       "width": 420
      }
     },
     "output_type": "display_data"
    },
    {
     "data": {
      "image/png": "[encoded data removed]",
      "text/plain": [
       "plot without title"
      ]
     },
     "metadata": {
      "image/png": {
       "height": 420,
       "width": 420
      }
     },
     "output_type": "display_data"
    }
   ],
   "source": [
    "#https://cran.r-project.org/web/packages/hrbrthemes/vignettes/why_hrbrthemes.html\n",
    "#https://r-graph-gallery.com/273-custom-your-scatterplot-ggplot2.html\n",
    "\n",
    "# library\n",
    "library(ggplot2)\n",
    "library(RColorBrewer)\n",
    "\n",
    "# Iris dataset is natively provided by R\n",
    "#head(iris)\n",
    " \n",
    "# use options!\n",
    "ggplot(df_select, aes(x=Region, y=GGD, fill=Region)) + \n",
    "    geom_point(\n",
    "        #color=\"orange\",\n",
    "        #fill=\"#69b3a2\",\n",
    "        shape=21,\n",
    "        alpha=0.5,\n",
    "        size=6,\n",
    "        stroke = 1\n",
    "        )\n",
    "   \n",
    "# library\n",
    "library(ggplot2)\n",
    "library(hrbrthemes)\n",
    "\n",
    "# Iris dataset is natively provided by R\n",
    "#head(iris)\n",
    " \n",
    "# use options!\n",
    "p1 <- ggplot(df_select, aes(x=GDP, y=GGD, color=Region)) + \n",
    "    geom_point(\n",
    "        #color=\"orange\",\n",
    "        #fill=\"#69b3a2\",\n",
    "        #shape=21,\n",
    "        #alpha=0.5,\n",
    "        size=6,\n",
    "        #stroke = 1\n",
    "        ) \n",
    "\n",
    "p1 + scale_color_brewer(palette = \"Spectral\")\n",
    "   \n",
    "    #theme_ipsum()+ \n",
    "    #scale_color_hue(h = c(180, 300))\n"
   ]
  },
  {
   "cell_type": "code",
   "execution_count": 135,
   "id": "9a6a8630-ec4f-42db-83a2-92f083f15548",
   "metadata": {},
   "outputs": [
    {
     "data": {
      "image/png": "[encoded data removed]",
      "text/plain": [
       "plot without title"
      ]
     },
     "metadata": {
      "image/png": {
       "height": 420,
       "width": 420
      }
     },
     "output_type": "display_data"
    }
   ],
   "source": [
    "#hist(df1$Value)\n",
    "library(wesanderson)\n",
    "library(RColorBrewer)\n",
    "library(ggplot2)\n",
    "# Change line color by sex\n",
    "#jBrew<- brewer.pal(n = 7, name = 'RdBu')\n",
    "\n",
    "ggplot(df1, aes(x = Value)) +\n",
    "  geom_histogram(aes(color = Region, fill = Region), \n",
    "                position = \"identity\", bins = 7)+\n",
    "                scale_color_manual(values = c(\"#00AFBB\", \"#E7B800\",\"#a2d9ce\"\n",
    "                         ,\"#95a5a6\", \"#2874a6\",\"#f1c40f\",\"#873600\")) \n",
    "                                \n",
    "                #scale_color_manual(values = brewer.pal(n=7, name=\"RdBu\")))\n",
    "\n",
    "\n",
    " #+ scale_color_manual(values = c(\"#00AFBB\", \"#E7B800\",\")) \n",
    "\n",
    "\n",
    "# change fill and outline color manually \n",
    "#ggplot(wdata, aes(x = weight)) +\n",
    "#  geom_histogram(aes(color = sex, fill = sex), \n",
    "#                position = \"identity\", bins = 30, alpha = 0.4) +\n",
    "#  scale_color_manual(values = c(\"#00AFBB\", \"#E7B800\")) +\n",
    "#  scale_fill_manual(values = c(\"#00AFBB\", \"#E7B800\"))"
   ]
  },
  {
   "cell_type": "code",
   "execution_count": null,
   "id": "56ed29d6-c28b-49b1-8b5c-e2f5dbf9c995",
   "metadata": {},
   "outputs": [],
   "source": []
  }
 ],
 "metadata": {
  "kernelspec": {
   "display_name": "R",
   "language": "R",
   "name": "ir"
  },
  "language_info": {
   "codemirror_mode": "r",
   "file_extension": ".r",
   "mimetype": "text/x-r-source",
   "name": "R",
   "pygments_lexer": "r",
   "version": "4.3.1"
  }
 },
 "nbformat": 4,
 "nbformat_minor": 5
}
