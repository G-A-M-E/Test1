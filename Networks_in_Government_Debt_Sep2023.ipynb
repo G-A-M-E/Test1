{
 "cells": [
  {
   "cell_type": "markdown",
   "id": "ea97cc0c-8c00-4a4e-b0a7-dc1ffb3a33e3",
   "metadata": {},
   "source": [
    "# **Why use aes_string(), not aes(), when looping thru conditions**"
   ]
  },
  {
   "cell_type": "markdown",
   "id": "4994c7f3-afe7-43f4-9bd6-9a3e66704edb",
   "metadata": {},
   "source": [
    "In ggplot2, the aes() function is used to map variables in your data to visual properties (aesthetics) of the plot. You typically use it with unquoted variable names, like this: aes(x = var1, y = var2).\n",
    "\n",
    "However, in the loop example I provided, we’re dealing with variable names stored as strings in the x_vars vector. When you’re using a string to specify a variable name, you need to use aes_string() instead of aes(). This is because aes() evaluates its arguments in a non-standard way (it’s looking for actual variables in your data, not strings).\n",
    "\n",
    "So, in the loop, when we do aes_string(x = x_var, y = \"sat\", color = \"group\"), it’s equivalent to doing something like aes(x = test1, y = sat, color = group) if x_var is \"test1\".\n",
    "\n",
    "In short, use aes() when you have unquoted variable names and aes_string() when you have variable names stored as strings. 😊"
   ]
  },
  {
   "cell_type": "code",
   "execution_count": 104,
   "id": "4e10f3c5-bd89-4fc3-adda-0404c6a6dc9d",
   "metadata": {},
   "outputs": [],
   "source": [
    "#Chat\n",
    "\n",
    "test1 <- c(0.5,-4.6,-3.7,-2.4,-2.8,-0.6,-2.3,-1.1,-2.3)\n",
    "test2 <- c(16.6,15.8,14.5,15.7,13.6,13.7,17.1,16.2,14.3)\n",
    "sat <- c(25,20,6,15,13,9,5,22,21)\n",
    "group <-c(\"A\",\"A\",\"B\",\"B\",\"B\",\"A\",\"A\",\"B\",\"A\")\n",
    "df <- data.frame(group, sat, test1,test2)\n",
    "\n"
   ]
  },
  {
   "cell_type": "markdown",
   "id": "119a3217-1ed2-41df-8b07-22188c429748",
   "metadata": {},
   "source": [
    "# Move multiple files into one folder"
   ]
  },
  {
   "cell_type": "code",
   "execution_count": 122,
   "id": "bb863324-190c-4cd5-ad12-49adf4336e46",
   "metadata": {},
   "outputs": [],
   "source": [
    "# Load required package\n",
    "library(tools)\n",
    "\n",
    "# Specify the source and destination directories\n",
    "source_dir <- \"C:/Users/truev/Documents/UCSC/BaysianStatistics/02_Techniques/Week5\"\n",
    "#dest_dir <- \"C:/Users/truev/Documents/UCSC/BaysianStatistics/02_Techniques/Week5/plots/violinplot\"\n",
    "dest_dir <- \"C:/Users/truev/Documents/UCSC/BaysianStatistics/02_Techniques/Week5/plots/scatterplot\"\n",
    "\n",
    "# Get a list of all .png files in the source directory\n",
    "#files <- list.files(path = source_dir, pattern = \"\\\\.png|jpg$\")\n",
    "files <- list.files(path = source_dir, pattern = \"\\\\.png$\")\n",
    "\n",
    "# Move each .png file to the destination directory\n",
    "for (file in files) {\n",
    "  file.rename(from = file.path(source_dir, file), \n",
    "              to = file.path(dest_dir, file))\n",
    "}\n"
   ]
  },
  {
   "cell_type": "markdown",
   "id": "d4617551-c133-4e3b-b22e-174e5008fa3e",
   "metadata": {},
   "source": [
    "# **Introduction**\n",
    "# Beginning from a dataset..."
   ]
  },
  {
   "cell_type": "code",
   "execution_count": 105,
   "id": "25c81cd3-4f55-4624-9f16-4069c9f4867c",
   "metadata": {},
   "outputs": [
    {
     "data": {
      "text/plain": [
       "    Region               Year           ACCT                GDP         \n",
       " Length:343         Min.   :1980   Min.   :-10.90000   Min.   :  848.1  \n",
       " Class :character   1st Qu.:1992   1st Qu.: -2.10000   1st Qu.: 3698.0  \n",
       " Mode  :character   Median :2004   Median : -0.60000   Median :10072.1  \n",
       "                    Mean   :2004   Mean   :  0.02239   Mean   :16704.4  \n",
       "                    3rd Qu.:2016   3rd Qu.:  1.17500   3rd Qu.:27285.3  \n",
       "                    Max.   :2028   Max.   : 18.30000   Max.   :70230.0  \n",
       "                                   NA's   :17          NA's   :13       \n",
       "      GGD              INF              PPL         \n",
       " Min.   : 21.30   Min.   : -0.10   Min.   :  70.96  \n",
       " 1st Qu.: 53.02   1st Qu.:  3.25   1st Qu.: 434.80  \n",
       " Median : 69.70   Median :  6.10   Median : 640.73  \n",
       " Mean   : 72.91   Mean   : 15.02   Mean   :1007.84  \n",
       " 3rd Qu.: 91.08   3rd Qu.:  9.90   3rd Qu.: 770.61  \n",
       " Max.   :140.40   Max.   :475.90   Max.   :4546.85  \n",
       " NA's   :137                                        "
      ]
     },
     "metadata": {},
     "output_type": "display_data"
    },
    {
     "data": {
      "text/html": [
       "343"
      ],
      "text/latex": [
       "343"
      ],
      "text/markdown": [
       "343"
      ],
      "text/plain": [
       "[1] 343"
      ]
     },
     "metadata": {},
     "output_type": "display_data"
    }
   ],
   "source": [
    "#\"weo_092023\" is obsolete/modified at data wrangling stage\n",
    "df <- read.csv(\"weo_092423.csv\")\n",
    "summary(df)\n",
    "nrow(df)"
   ]
  },
  {
   "cell_type": "code",
   "execution_count": 106,
   "id": "1e904f24-e417-43f6-8369-ae40c89e7fca",
   "metadata": {},
   "outputs": [
    {
     "data": {
      "text/html": [
       "161"
      ],
      "text/latex": [
       "161"
      ],
      "text/markdown": [
       "161"
      ],
      "text/plain": [
       "[1] 161"
      ]
     },
     "metadata": {},
     "output_type": "display_data"
    }
   ],
   "source": [
    "library(dplyr)\n",
    "df_select <- df %>% \n",
    "            filter(Year %in% 2000:2022) \n",
    "nrow(df_select)\n",
    "#head(df_select,7)\n",
    "#tail(df_select,7)             "
   ]
  },
  {
   "cell_type": "code",
   "execution_count": 107,
   "id": "ac1ce561-0f64-4923-9972-60b92637098c",
   "metadata": {},
   "outputs": [
    {
     "data": {
      "text/html": [
       "<style>\n",
       ".list-inline {list-style: none; margin:0; padding: 0}\n",
       ".list-inline>li {display: inline-block}\n",
       ".list-inline>li:not(:last-child)::after {content: \"\\00b7\"; padding: 0 .5ex}\n",
       "</style>\n",
       "<ol class=list-inline><li>'Region'</li><li>'Year'</li><li>'ACCT'</li><li>'GDP'</li><li>'GGD'</li><li>'INF'</li><li>'PPL'</li></ol>\n"
      ],
      "text/latex": [
       "\\begin{enumerate*}\n",
       "\\item 'Region'\n",
       "\\item 'Year'\n",
       "\\item 'ACCT'\n",
       "\\item 'GDP'\n",
       "\\item 'GGD'\n",
       "\\item 'INF'\n",
       "\\item 'PPL'\n",
       "\\end{enumerate*}\n"
      ],
      "text/markdown": [
       "1. 'Region'\n",
       "2. 'Year'\n",
       "3. 'ACCT'\n",
       "4. 'GDP'\n",
       "5. 'GGD'\n",
       "6. 'INF'\n",
       "7. 'PPL'\n",
       "\n",
       "\n"
      ],
      "text/plain": [
       "[1] \"Region\" \"Year\"   \"ACCT\"   \"GDP\"    \"GGD\"    \"INF\"    \"PPL\"   "
      ]
     },
     "metadata": {},
     "output_type": "display_data"
    }
   ],
   "source": [
    "#EXECUTE EACH TIME !!!\n",
    "\n",
    "# Modify Region values as they are too long/crowded in the graph\n",
    "# Assuming 'df' is your data frame and 'Region' is the column you want to modify\n",
    "\n",
    "df_select$Region <- gsub(\"Asia and Pacific\", \"APAC\", df_select$Region)\n",
    "df_select$Region <- gsub(\"Latin America and the Caribbean\", \"LATAM\", df_select$Region)\n",
    "df_select$Region <- gsub(\"Major advanced economies \\\\(G7\\\\)\", \"G7\", df_select$Region)\n",
    "df_select$Region <- gsub(\"North America\", \"NAM\", df_select$Region)\n",
    "df_select$Region <- gsub(\"Middle East\", \"ME\", df_select$Region)\n",
    "colnames(df_select)"
   ]
  },
  {
   "cell_type": "markdown",
   "id": "a92752f6-0e6c-4942-a485-1d6d6cc8aeb3",
   "metadata": {},
   "source": [
    "# **Boxplot**"
   ]
  },
  {
   "cell_type": "code",
   "execution_count": 3,
   "id": "8c1124fc-70e7-4b7e-9c38-58795c3a8eec",
   "metadata": {},
   "outputs": [
    {
     "name": "stderr",
     "output_type": "stream",
     "text": [
      "── \u001b[1mAttaching core tidyverse packages\u001b[22m ───────────────────────── tidyverse 2.0.0 ──\n",
      "\u001b[32m✔\u001b[39m \u001b[34mforcats  \u001b[39m 1.0.0     \u001b[32m✔\u001b[39m \u001b[34mreadr    \u001b[39m 2.1.4\n",
      "\u001b[32m✔\u001b[39m \u001b[34mggplot2  \u001b[39m 3.4.3     \u001b[32m✔\u001b[39m \u001b[34mstringr  \u001b[39m 1.5.0\n",
      "\u001b[32m✔\u001b[39m \u001b[34mlubridate\u001b[39m 1.9.2     \u001b[32m✔\u001b[39m \u001b[34mtibble   \u001b[39m 3.2.1\n",
      "\u001b[32m✔\u001b[39m \u001b[34mpurrr    \u001b[39m 1.0.1     \u001b[32m✔\u001b[39m \u001b[34mtidyr    \u001b[39m 1.3.0\n",
      "── \u001b[1mConflicts\u001b[22m ─────────────────────────────────────────── tidyverse_conflicts() ──\n",
      "\u001b[31m✖\u001b[39m \u001b[34mdplyr\u001b[39m::\u001b[32mfilter()\u001b[39m masks \u001b[34mstats\u001b[39m::filter()\n",
      "\u001b[31m✖\u001b[39m \u001b[34mdplyr\u001b[39m::\u001b[32mlag()\u001b[39m    masks \u001b[34mstats\u001b[39m::lag()\n",
      "\u001b[36mℹ\u001b[39m Use the conflicted package (\u001b[3m\u001b[34m<http://conflicted.r-lib.org/>\u001b[39m\u001b[23m) to force all conflicts to become errors\n",
      "Loading required package: viridisLite\n",
      "\n",
      "Warning message:\n",
      "\"\u001b[1m\u001b[22m`aes_string()` was deprecated in ggplot2 3.0.0.\n",
      "\u001b[36mℹ\u001b[39m Please use tidy evaluation idioms with `aes()`.\n",
      "\u001b[36mℹ\u001b[39m See also `vignette(\"ggplot2-in-packages\")` for more information.\"\n",
      "\u001b[1m\u001b[22mSaving 6.67 x 6.67 in image\n",
      "\u001b[1m\u001b[22mSaving 6.67 x 6.67 in image\n",
      "\u001b[1m\u001b[22mSaving 6.67 x 6.67 in image\n",
      "\u001b[1m\u001b[22mSaving 6.67 x 6.67 in image\n",
      "\u001b[1m\u001b[22mSaving 6.67 x 6.67 in image\n"
     ]
    },
    {
     "data": {
      "text/html": [
       "<strong>null device:</strong> 1"
      ],
      "text/latex": [
       "\\textbf{null device:} 1"
      ],
      "text/markdown": [
       "**null device:** 1"
      ],
      "text/plain": [
       "null device \n",
       "          1 "
      ]
     },
     "metadata": {},
     "output_type": "display_data"
    }
   ],
   "source": [
    "#https://r-graph-gallery.com/89-box-and-scatter-plot-with-ggplot2.html\n",
    "\n",
    "# Libraries\n",
    "library(tidyverse)\n",
    "library(hrbrthemes)\n",
    "library(viridis)\n",
    "\n",
    "# Define the variables for which you want to create plots\n",
    "variables <- c(\"GDP\", \"INF\", \"PPL\", \"ACCT\", \"GGD\")\n",
    "\n",
    "variables_ylab <- c(\"Gross Domestic Product \\n (US dollars per capita)\", \n",
    "                    \"Inflation \\n (annual % change)\", \n",
    "                    \"Population \\n (millions of people)\",\n",
    "                    \"Current Account Balance \\n (% of GDP)\",\n",
    "                    \"General Government Gross Debt \\n (% of GDP)\")\n",
    "\n",
    "variables_title <- c(\"Gross Domestic Product \\n (US dollars per capita)\",\n",
    "                     \"Inflation \\n (annual % change)\",\n",
    "                     \"Populaton \\n (in millions)\",\n",
    "                     \"Current Account Balance \\n (% of GDP)\",\n",
    "                     \"General Government Gross Debt \\n (% of GDP)\")  # Add this line\n",
    "\n",
    "# Initialize an empty list to store the plots\n",
    "plot_list <- list()\n",
    "\n",
    "# Use a loop to create a plot for each variable\n",
    "for (i in seq_along(variables)) {\n",
    "  # Create the plot\n",
    "  p <- ggplot(df_select, aes_string(x=\"Region\", y=variables[i], fill=\"Region\")) +\n",
    "    geom_boxplot() +\n",
    "    scale_fill_viridis(discrete = TRUE, alpha=0.6) +\n",
    "    geom_jitter(color=\"black\", size=0.4, alpha=0.9) +\n",
    "    theme_ipsum() +\n",
    "    theme(\n",
    "      legend.position=\"right\",\n",
    "      legend.title = element_text(face = \"bold\"),  # Bold the legend title\n",
    "      legend.text = element_text(face = \"bold\"),  # Bold the legend text\n",
    "      plot.title = element_text(hjust = 0.5, vjust=3),\n",
    "      axis.title.x = element_text(hjust=0.5, vjust=-7,color = \"blue\", size = 14, face = \"bold\"), \n",
    "      axis.title.y = element_text(hjust=0.5, vjust=10, color = \"blue\", size = 14, face = \"bold\"),\n",
    "      axis.text = element_text(face = \"bold\"),\n",
    "      plot.background = element_rect(fill = \"white\"), # Set background color to white\n",
    "      panel.background = element_rect(fill = \"white\") # Set panel background color to white\n",
    "    ) +\n",
    "    labs(fill = \"Region + G7\") +  # Customize the legend title\n",
    "    ggtitle(variables_title[i]) +  # Use the title from variables_title vector\n",
    "    xlab(\"Region + G7\")+\n",
    "    ylab(variables_ylab[i])  # Add y-axis label\n",
    "  \n",
    "  # Print the plot\n",
    "  #print(p)\n",
    "\n",
    "  # Save the plot with file name as variable name\n",
    "  ggsave(paste0(variables[i], \"_boxplot.png\"), plot = p)\n",
    "}\n",
    "\n",
    "dev.off()\n",
    "\n"
   ]
  },
  {
   "cell_type": "markdown",
   "id": "6720b3f2-7ed1-4048-9305-d0826a890085",
   "metadata": {},
   "source": [
    "# **Violin Plot**"
   ]
  },
  {
   "cell_type": "code",
   "execution_count": 91,
   "id": "abb31eb6-3dc8-4612-86d0-db6819674186",
   "metadata": {},
   "outputs": [
    {
     "name": "stderr",
     "output_type": "stream",
     "text": [
      "\u001b[1m\u001b[22mSaving 6.67 x 6.67 in image\n",
      "\u001b[1m\u001b[22mSaving 6.67 x 6.67 in image\n",
      "\u001b[1m\u001b[22mSaving 6.67 x 6.67 in image\n",
      "\u001b[1m\u001b[22mSaving 6.67 x 6.67 in image\n",
      "\u001b[1m\u001b[22mSaving 6.67 x 6.67 in image\n"
     ]
    },
    {
     "data": {
      "text/html": [
       "<strong>null device:</strong> 1"
      ],
      "text/latex": [
       "\\textbf{null device:} 1"
      ],
      "text/markdown": [
       "**null device:** 1"
      ],
      "text/plain": [
       "null device \n",
       "          1 "
      ]
     },
     "metadata": {},
     "output_type": "display_data"
    }
   ],
   "source": [
    "#https://r-graph-gallery.com/89-box-and-scatter-plot-with-ggplot2.html\n",
    "\n",
    "# Libraries\n",
    "library(tidyverse)\n",
    "library(hrbrthemes)\n",
    "library(viridis)\n",
    "\n",
    "# Define the variables for which you want to create plots\n",
    "variables <- c(\"GDP\", \"INF\", \"PPL\", \"ACCT\", \"GGD\")\n",
    "variables_ylab <- c(\"Gross Domestic Product \\n (US dollars per capita)\", \n",
    "                    \"Inflation \\n (annual % change)\", \n",
    "                    \"Population \\n (millions of people)\",\n",
    "                    \"Current Account Balance \\n (% of GDP)\",\n",
    "                    \"General Government Gross Debt \\n (% of GDP)\")\n",
    "\n",
    "variables_title <- c(\"Gross Domestic Product \\n (US dollars per capita)\",\n",
    "                     \"Inflation \\n (annual % change)\",\n",
    "                     \"Populaton \\n (in millions)\",\n",
    "                     \"Current Account Balance \\n (% of GDP)\",\n",
    "                     \"General Government Gross Debt \\n (% of GDP)\")  # Add this line\n",
    "\n",
    "# Initialize an empty list to store the plots\n",
    "plot_list <- list()\n",
    "\n",
    "# Use a loop to create a plot for each variable\n",
    "for (i in seq_along(variables)) {    \n",
    "  # Create the plot\n",
    "  p <- ggplot(df_select, aes_string(x=\"Region\", y=variables[i], fill=\"Region\")) +\n",
    "    geom_violin(width=1)+\n",
    "    #geom_boxplot() +\n",
    "    scale_fill_viridis(discrete = TRUE, alpha=0.6) +\n",
    "    geom_jitter(color=\"black\", size=0.4, alpha=0.9) +\n",
    "    theme_ipsum() +\n",
    "    theme(\n",
    "      legend.position=\"right\",\n",
    "      legend.title = element_text(face = \"bold\"),  # Bold the legend title\n",
    "      legend.text = element_text(face = \"bold\"),  # Bold the legend text\n",
    "      plot.title = element_text(hjust = 0.5, vjust=3),\n",
    "      axis.title.x = element_text(hjust=0.5, vjust=-7,color = \"blue\", size = 14, face = \"bold\"), \n",
    "      axis.title.y = element_text(hjust=0.5, vjust=10, color = \"blue\", size = 14, face = \"bold\"),\n",
    "      axis.text = element_text(face = \"bold\"),\n",
    "      plot.background = element_rect(fill = \"white\"), # Set background color to white\n",
    "      panel.background = element_rect(fill = \"white\") # Set panel background color to white\n",
    "    ) +\n",
    "    labs(fill = \"Region + G7\") +  # Customize the legend title\n",
    "    ggtitle(variables_title[i]) +  # Use the title from variables_title vector\n",
    "    xlab(\"Region + G7\")+\n",
    "    ylab(variables_ylab[i])  # Add y-axis label\n",
    "  \n",
    "  # Print the plot\n",
    "  #print(p)\n",
    "\n",
    "  # Save the plot with file name as variable name\n",
    "  ggsave(paste0(variables[i], \"_violinplot.png\"), plot = p)\n",
    "}\n",
    "\n",
    "dev.off()\n",
    "\n"
   ]
  },
  {
   "cell_type": "markdown",
   "id": "37ae1b58-5327-4c31-bac0-09a48623ff82",
   "metadata": {},
   "source": [
    "# **Scatterplot**\n",
    "- For All (matrix)\n",
    "    - plot() -- can create a single one or a matrix!\n",
    "    - ggpairs()\n",
    "\n",
    "##### **Source**\n",
    "https://www.statology.org/scatterplot-matrix-in-r/"
   ]
  },
  {
   "cell_type": "code",
   "execution_count": 52,
   "id": "5bd52974-b9df-4b12-b459-1f492ab1ab20",
   "metadata": {},
   "outputs": [
    {
     "data": {
      "image/png": "[encoded data removed]",
      "text/plain": [
       "plot without title"
      ]
     },
     "metadata": {
      "image/png": {
       "height": 420,
       "width": 420
      }
     },
     "output_type": "display_data"
    }
   ],
   "source": [
    "#df_select <- df_select[ , c(3:7)]\n",
    "#plot(df_select, pch=20, cex=1.5, col='steelblue')"
   ]
  },
  {
   "cell_type": "code",
   "execution_count": 53,
   "id": "15acdcf6-5887-4f4b-88a3-6caa2a255383",
   "metadata": {},
   "outputs": [
    {
     "data": {
      "image/png": "[encoded data removed]",
      "text/plain": [
       "plot without title"
      ]
     },
     "metadata": {
      "image/png": {
       "height": 420,
       "width": 420
      }
     },
     "output_type": "display_data"
    }
   ],
   "source": [
    "library(GGally)\n",
    "ggpairs(df_select)"
   ]
  },
  {
   "cell_type": "code",
   "execution_count": 108,
   "id": "fc651fc5-da32-4d69-b297-79def72dfd20",
   "metadata": {},
   "outputs": [
    {
     "name": "stderr",
     "output_type": "stream",
     "text": [
      "\u001b[1m\u001b[22m`geom_smooth()` using formula = 'y ~ x'\n",
      "Warning message:\n",
      "\"The shape palette can deal with a maximum of 6 discrete values because\n",
      "more than 6 becomes difficult to discriminate; you have 7. Consider\n",
      "specifying shapes manually if you must have them.\"\n",
      "Warning message:\n",
      "\"\u001b[1m\u001b[22mRemoved 23 rows containing missing values (`geom_point()`).\"\n"
     ]
    },
    {
     "data": {
      "image/png": "[encoded data removed]",
      "text/plain": [
       "plot without title"
      ]
     },
     "metadata": {
      "image/png": {
       "height": 420,
       "width": 420
      }
     },
     "output_type": "display_data"
    }
   ],
   "source": [
    "#scatterplot(GGD ~ GDP | Region, data=df_select)\n",
    "\n",
    "ggplot(df_select, aes(x=GDP, y=GGD, color=Region, shape=Region)) +\n",
    "  geom_point(size=3) +\n",
    "  geom_smooth(method=\"lm\", se=FALSE) +\n",
    "  theme(legend.key.size = unit(1.5, \"cm\")) +\n",
    "  guides(color = guide_legend(override.aes = list(size=5)))"
   ]
  },
  {
   "cell_type": "code",
   "execution_count": 121,
   "id": "d1c55b8d-e2e6-49b2-96bf-db32ab8c7fba",
   "metadata": {},
   "outputs": [
    {
     "name": "stderr",
     "output_type": "stream",
     "text": [
      "\u001b[1m\u001b[22mSaving 6.67 x 6.67 in image\n",
      "\u001b[1m\u001b[22m`geom_smooth()` using formula = 'y ~ x'\n",
      "\u001b[1m\u001b[22mSaving 6.67 x 6.67 in image\n",
      "\u001b[1m\u001b[22m`geom_smooth()` using formula = 'y ~ x'\n",
      "\u001b[1m\u001b[22mSaving 6.67 x 6.67 in image\n",
      "\u001b[1m\u001b[22m`geom_smooth()` using formula = 'y ~ x'\n",
      "\u001b[1m\u001b[22mSaving 6.67 x 6.67 in image\n",
      "\u001b[1m\u001b[22m`geom_smooth()` using formula = 'y ~ x'\n"
     ]
    },
    {
     "data": {
      "text/html": [
       "<strong>null device:</strong> 1"
      ],
      "text/latex": [
       "\\textbf{null device:} 1"
      ],
      "text/markdown": [
       "**null device:** 1"
      ],
      "text/plain": [
       "null device \n",
       "          1 "
      ]
     },
     "metadata": {},
     "output_type": "display_data"
    }
   ],
   "source": [
    "#red, orange, yellow, green, blue, indigo, and violet.\n",
    "\n",
    "# Libraries\n",
    "library(tidyverse)\n",
    "library(hrbrthemes)\n",
    "library(viridis)\n",
    "\n",
    "variables <- c(\"GDP\", \"INF\", \"PPL\", \"ACCT\")\n",
    "variables_xlab <- c(\"Gross Domestic Product\", \n",
    "                    \"Inflation)\", \n",
    "                    \"Population\",\n",
    "                    \"Current Account Balance\",\n",
    "                    \"General Government Gross Debt\")\n",
    "\n",
    "variables_title <- c(\"General Government Gross Debt vs Gross Domestic Product\",\n",
    "                     \"General Government Gross Debt vs Inflation\",\n",
    "                     \"General Government Gross Debt vs Populaton\",\n",
    "                     \"General Government Gross Debt vs Current Account Balance\")\n",
    "\n",
    "filename_title <- c(\"GGD vs GDP\",\n",
    "                     \"GGD vs INF\",\n",
    "                     \"GGD vs PPL\",\n",
    "                     \"GGD vs ACCT\")\n",
    "\n",
    "# Initialize an empty list to store the plots\n",
    "plot_list <- list()\n",
    "\n",
    "# Use a loop to create a plot for each variable\n",
    "for (i in seq_along(variables)) {\n",
    "  p_scatter <- ggplot(df_select, aes_string(x=variables[i], y=\"GGD\", color=\"Region\", shape=\"Region\")) +\n",
    "    geom_point(size=3) +\n",
    "    geom_smooth(method=\"lm\", se=FALSE) +\n",
    "    scale_shape_manual(values=c(16, 17,18,8,9,21,10)) +\n",
    "    scale_color_manual(values=c(\"blue\", \"red\", \"green\", \"violet\", \"orange\", \"#4B0082\", \"yellow\")) +\n",
    "    theme(legend.key.size = unit(1.5, \"cm\")) +\n",
    "    guides(color = guide_legend(override.aes = list(size=5)))+    \n",
    "    theme_ipsum() +\n",
    "    theme(\n",
    "        legend.position=\"right\",\n",
    "        legend.title = element_text(face = \"bold\"),  # Bold the legend title\n",
    "        legend.text = element_text(face = \"bold\"),  # Bold the legend text\n",
    "        plot.title = element_text(hjust = 0, vjust=-3, size =10, face = \"bold.italic\"),\n",
    "        axis.title.x = element_text(hjust=0.5, vjust=-7,color = \"blue\", size = 14, face = \"bold\"), \n",
    "        axis.title.y = element_text(hjust=0.5, vjust=5, color = \"blue\", size = 14, face = \"bold\"),\n",
    "        axis.text = element_text(face = \"bold\"),\n",
    "        plot.background = element_rect(fill = \"white\"), # Set background color to white\n",
    "        panel.background = element_rect(fill = \"white\") # Set panel background color to white\n",
    "    ) +    \n",
    "    labs(fill = \"Region + G7\") +  # Customize the legend title\n",
    "    ggtitle(variables_title[i]) +  # Use the title from variables_title vector\n",
    "    xlab(variables_xlab[i])+\n",
    "    ylab(\"General Gross Government Debt\")  # Add y-axis label\n",
    "\n",
    "      # Save the plot with file name as variable name\n",
    "  ggsave(paste0(filename_title[i], \"_scatterplot.png\"), plot = p_scatter)\n",
    "}\n",
    "\n",
    "dev.off()\n",
    "  "
   ]
  },
  {
   "cell_type": "code",
   "execution_count": 41,
   "id": "e03ef631-5bce-4fc7-af7e-c04b32cf0232",
   "metadata": {},
   "outputs": [
    {
     "data": {
      "image/png": "[encoded data removed]",
      "text/plain": [
       "plot without title"
      ]
     },
     "metadata": {
      "image/png": {
       "height": 420,
       "width": 420
      }
     },
     "output_type": "display_data"
    }
   ],
   "source": [
    "# library\n",
    "#library(ggplot2)\n",
    " \n",
    "# dataset: df_select\n",
    "\n",
    "# basic scatterplot\n",
    "library(paletteer)\n",
    "ggplot(df_select, aes(x=GDP, y=GGD, color=Region)) + \n",
    "    geom_point(size = 3) +\n",
    "    scale_color_paletteer_d(\"nord::halifax_harbor\")\n",
    "\n"
   ]
  },
  {
   "cell_type": "code",
   "execution_count": null,
   "id": "ed18391e-9ddb-4e81-aa53-f03d6969a820",
   "metadata": {},
   "outputs": [],
   "source": []
  }
 ],
 "metadata": {
  "kernelspec": {
   "display_name": "R",
   "language": "R",
   "name": "ir"
  },
  "language_info": {
   "codemirror_mode": "r",
   "file_extension": ".r",
   "mimetype": "text/x-r-source",
   "name": "R",
   "pygments_lexer": "r",
   "version": "4.3.1"
  }
 },
 "nbformat": 4,
 "nbformat_minor": 5
}
